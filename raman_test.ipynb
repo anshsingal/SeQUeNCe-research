{
 "cells": [
  {
   "cell_type": "code",
   "execution_count": 1,
   "metadata": {},
   "outputs": [],
   "source": [
    "from src.topology.node import Node\n",
    "from src.protocol import Protocol\n",
    "from src.message import Message\n",
    "from src.kernel.timeline import Timeline\n",
    "from src.components.optical_channel import ClassicalChannel, QuantumChannel\n",
    "from src.components.detector import PulseDetector\n",
    "from src.components.light_source import ParametricSource\n",
    "from src.kernel.event import Event\n",
    "from src.kernel.process import Process\n",
    "from enum import Enum, auto\n",
    "from matplotlib import pyplot as plt\n",
    "\n",
    "class MsgType(Enum):\n",
    "    STOP = auto()\n",
    "\n",
    "tl = Timeline(1e12)"
   ]
  },
  {
   "cell_type": "code",
   "execution_count": 2,
   "metadata": {},
   "outputs": [],
   "source": [
    "class RamanTestSender(Protocol):\n",
    "    def __init__(self, own: Node):\n",
    "        self.own = own\n",
    "        # own.protocols.append(self)\n",
    "        # self.other_nodes = other_nodes\n",
    "\n",
    "    def start(self):\n",
    "        # self.own.qchannels[self.own.signal_receiver].start_clock()\n",
    "\n",
    "        for i in range(1000):\n",
    "            temp_time = self.emit_event()\n",
    "            if not temp_time == None:\n",
    "                emit_time = temp_time\n",
    "\n",
    "        new_msg = Message(MsgType.STOP, self.own.signal_receiver)\n",
    "\n",
    "        # print(f\"emission stopped at: {emit_time}, stop signal sent at {emit_time + 20}\")\n",
    "\n",
    "        process = Process(self.own, \"send_message\", [self.own.signal_receiver, new_msg])\n",
    "        event = Event(emit_time + 2000, process)\n",
    "        self.own.timeline.schedule(event)\n",
    "        # self.own.send_message(self.own.signal_receiver, new_msg)\n",
    "\n",
    "    def emit_event(self):\n",
    "        # print(\"a photon was emitted\")\n",
    "        return self.own.parametric_source.emit()\n",
    "\n",
    "    def received_message(self, src: str, message: Message):\n",
    "        pass\n",
    "\n",
    "\n",
    "class RamanTestReceiver(Protocol):\n",
    "    def __init__(self, signal_node, idler_node, other_node: str):\n",
    "        # signal_node.protocols.append(self)\n",
    "        # idler_node.protocols.append(self)\n",
    "        self.signal_node = signal_node\n",
    "        self.idler_node = idler_node\n",
    "        self.other_node = other_node\n",
    "        self.first_detection = True\n",
    "        self.first_detection_time = 0\n",
    "        self.detection_times = []\n",
    "        self.first_signal = False\n",
    "        self.stop_receiving = False\n",
    "\n",
    "    def start(self):\n",
    "        # start clock and emissions\n",
    "        pass\n",
    "\n",
    "    def trigger(self, receiving_node_detector, time_dict):\n",
    "\n",
    "        if self.stop_receiving:\n",
    "            return\n",
    "        \n",
    "        detection_time = time_dict['time']\n",
    "        \n",
    "        # print(f\"Received_detection at {detection_time}\")\n",
    "\n",
    "        receiving_node = receiving_node_detector.own\n",
    "        # print(f\"Receiver trigger function by node: {receiving_node} with signal: {self.signal_node}\")\n",
    "        \n",
    "        if receiving_node == self.signal_node:\n",
    "            # print(\"photon received at signal node\")\n",
    "            if self.first_detection == True:\n",
    "                # print(\"first photon detection at signal\")\n",
    "                self.first_detection = False\n",
    "                self.first_detection_time = detection_time\n",
    "                self.first_signal = True\n",
    "\n",
    "            if self.first_detection == False:\n",
    "                if self.first_signal:\n",
    "                    # print(\"second photon also signal, discrading first\")\n",
    "                    self.first_detection_time = detection_time\n",
    "                else:\n",
    "                    # print(f\"second photon signal, recoding time: {-(detection_time - self.first_detection_time)}\")\n",
    "                    self.first_detection = True\n",
    "                    self.detection_times.append(-(detection_time - self.first_detection_time))\n",
    "        \n",
    "        if receiving_node == self.idler_node:\n",
    "            # print(\"photon received at idler node\")\n",
    "            if self.first_detection == True:\n",
    "                # print(\"First photon detection at idler\")\n",
    "                self.first_detection = False\n",
    "                self.first_detection_time = detection_time\n",
    "                self.first_signal = False\n",
    "\n",
    "            if self.first_detection == False:\n",
    "                if not self.first_signal:\n",
    "                    # print(\"second photon also idler, discrading first\")\n",
    "                    self.first_detection_time = detection_time\n",
    "                else:\n",
    "                    # print(f\"second photon signal, recoding time: {detection_time - self.first_detection_time}\")\n",
    "                    self.first_detection = True\n",
    "                    self.detection_times.append(detection_time - self.first_detection_time)\n",
    "            \n",
    "    \n",
    "    def received_message(self, src: str, message: Message):\n",
    "        assert message.msg_type == MsgType.STOP\n",
    "        self.stop_receiving = True\n",
    "\n",
    "        n, bins, patches = plt.hist(self.detection_times, range(-28125, 28126, 625))\n",
    "        plt.show()\n",
    "\n",
    "        "
   ]
  },
  {
   "cell_type": "code",
   "execution_count": 3,
   "metadata": {},
   "outputs": [],
   "source": [
    "class receiver_node(Node):\n",
    "    def __init__(self, name, timeline, sender_name):\n",
    "        Node.__init__(self, name, timeline)\n",
    "        self.detector = PulseDetector(self, name, timeline)\n",
    "        self.detector.owner = self\n",
    "    \n",
    "    def attach_detector_to_receiver(self, protocol):\n",
    "        self.detector.attach(protocol)\n",
    "        self.protocol = protocol\n",
    "\n",
    "    def receive_message(self, src: str, msg: \"Message\"):\n",
    "        self.protocol.received_message(src, msg)\n",
    "\n",
    "    def receive_qubit(self, src, qubit):\n",
    "        self.detector.get(qubit)\n",
    "\n",
    "class sender_node(Node):\n",
    "    def __init__(self, name, timeline):\n",
    "        Node.__init__(self, name, timeline)\n",
    "        self.protocol = RamanTestSender(self)\n",
    "\n",
    "\n",
    "    def attach_lightsource_to_receivers(self, signal_receiver, idler_receiver):\n",
    "        self.parametric_source = ParametricSource(own = self, name = None, timeline = self.timeline, signal_receiver=signal_receiver, idler_receiver=idler_receiver)\n",
    "        self.signal_receiver = signal_receiver\n",
    "        self.idler_receiver = idler_receiver\n",
    "        # self.parametric_source.own = self\n",
    "        # self.spdc_source.attach(self.protocol)"
   ]
  },
  {
   "cell_type": "code",
   "execution_count": 4,
   "metadata": {},
   "outputs": [],
   "source": [
    "sender = sender_node(\"sender\", tl)\n",
    "signal_receiver = receiver_node(\"signal_receiver\", tl, 'sender')\n",
    "idler_receiver = receiver_node(\"idler_receiver\", tl, 'sender')"
   ]
  },
  {
   "cell_type": "code",
   "execution_count": 5,
   "metadata": {},
   "outputs": [],
   "source": [
    "receiver_protocol = RamanTestReceiver(signal_receiver, idler_receiver, 'sender')\n",
    "\n",
    "signal_receiver.attach_detector_to_receiver(receiver_protocol)\n",
    "idler_receiver.attach_detector_to_receiver(receiver_protocol)\n",
    "sender.attach_lightsource_to_receivers(\"signal_receiver\", \"idler_receiver\")"
   ]
  },
  {
   "cell_type": "code",
   "execution_count": 6,
   "metadata": {},
   "outputs": [],
   "source": [
    "import traceback\n",
    "import sys\n",
    "try:\n",
    "    signal_channel = QuantumChannel(name = \"signal_channel\", timeline = tl, attenuation = 0.076, distance = 5)\n",
    "    idler_channel = QuantumChannel(name = \"idler_channel\", timeline = tl, attenuation = 0.076, distance = 5)\n",
    "    classical_channel = ClassicalChannel(name = \"classical_channel\", timeline = tl, distance = 5)\n",
    "    signal_channel.set_ends(sender, \"signal_receiver\")\n",
    "    idler_channel.set_ends(sender, \"idler_receiver\")\n",
    "    classical_channel.set_ends(sender, \"signal_receiver\")\n",
    "except Exception:\n",
    "    print(traceback.format_exc())"
   ]
  },
  {
   "cell_type": "code",
   "execution_count": 7,
   "metadata": {},
   "outputs": [
    {
     "data": {
      "image/png": "[encoded data removed]",
      "text/plain": [
       "<Figure size 432x288 with 1 Axes>"
      ]
     },
     "metadata": {
      "needs_background": "light"
     },
     "output_type": "display_data"
    },
    {
     "ename": "KeyboardInterrupt",
     "evalue": "",
     "output_type": "error",
     "traceback": [
      "\u001b[1;31m---------------------------------------------------------------------------\u001b[0m",
      "\u001b[1;31mKeyboardInterrupt\u001b[0m                         Traceback (most recent call last)",
      "\u001b[1;32m~\\AppData\\Local\\Temp/ipykernel_11488/980683314.py\u001b[0m in \u001b[0;36m<module>\u001b[1;34m\u001b[0m\n\u001b[0;32m      5\u001b[0m \u001b[1;33m\u001b[0m\u001b[0m\n\u001b[0;32m      6\u001b[0m     \u001b[0mtl\u001b[0m\u001b[1;33m.\u001b[0m\u001b[0minit\u001b[0m\u001b[1;33m(\u001b[0m\u001b[1;33m)\u001b[0m\u001b[1;33m\u001b[0m\u001b[1;33m\u001b[0m\u001b[0m\n\u001b[1;32m----> 7\u001b[1;33m     \u001b[0mtl\u001b[0m\u001b[1;33m.\u001b[0m\u001b[0mrun\u001b[0m\u001b[1;33m(\u001b[0m\u001b[1;33m)\u001b[0m\u001b[1;33m\u001b[0m\u001b[1;33m\u001b[0m\u001b[0m\n\u001b[0m\u001b[0;32m      8\u001b[0m \u001b[1;33m\u001b[0m\u001b[0m\n\u001b[0;32m      9\u001b[0m     \u001b[0mprint\u001b[0m\u001b[1;33m(\u001b[0m\u001b[0msignal_receiver\u001b[0m\u001b[1;33m.\u001b[0m\u001b[0mprotocol\u001b[0m\u001b[1;33m.\u001b[0m\u001b[0mdetection_times\u001b[0m\u001b[1;33m)\u001b[0m\u001b[1;33m\u001b[0m\u001b[1;33m\u001b[0m\u001b[0m\n",
      "\u001b[1;32mc:\\Users\\anshs\\Desktop\\study\\Research\\SeQUeNCe_versions\\SeQUeNCe_old\\src\\kernel\\timeline.py\u001b[0m in \u001b[0;36mrun\u001b[1;34m(self)\u001b[0m\n\u001b[0;32m    132\u001b[0m             \u001b[1;31m# log[event.process.activation]+=1\u001b[0m\u001b[1;33m\u001b[0m\u001b[1;33m\u001b[0m\u001b[1;33m\u001b[0m\u001b[0m\n\u001b[0;32m    133\u001b[0m \u001b[1;33m\u001b[0m\u001b[0m\n\u001b[1;32m--> 134\u001b[1;33m             \u001b[0mevent\u001b[0m\u001b[1;33m.\u001b[0m\u001b[0mprocess\u001b[0m\u001b[1;33m.\u001b[0m\u001b[0mrun\u001b[0m\u001b[1;33m(\u001b[0m\u001b[1;33m)\u001b[0m\u001b[1;33m\u001b[0m\u001b[1;33m\u001b[0m\u001b[0m\n\u001b[0m\u001b[0;32m    135\u001b[0m \u001b[1;33m\u001b[0m\u001b[0m\n\u001b[0;32m    136\u001b[0m             \u001b[0mself\u001b[0m\u001b[1;33m.\u001b[0m\u001b[0mrun_counter\u001b[0m \u001b[1;33m+=\u001b[0m \u001b[1;36m1\u001b[0m\u001b[1;33m\u001b[0m\u001b[1;33m\u001b[0m\u001b[0m\n",
      "\u001b[1;32mc:\\Users\\anshs\\Desktop\\study\\Research\\SeQUeNCe_versions\\SeQUeNCe_old\\src\\kernel\\process.py\u001b[0m in \u001b[0;36mrun\u001b[1;34m(self)\u001b[0m\n\u001b[0;32m     28\u001b[0m         \"\"\"\n\u001b[0;32m     29\u001b[0m \u001b[1;33m\u001b[0m\u001b[0m\n\u001b[1;32m---> 30\u001b[1;33m         \u001b[1;32mreturn\u001b[0m \u001b[0mgetattr\u001b[0m\u001b[1;33m(\u001b[0m\u001b[0mself\u001b[0m\u001b[1;33m.\u001b[0m\u001b[0mowner\u001b[0m\u001b[1;33m,\u001b[0m \u001b[0mself\u001b[0m\u001b[1;33m.\u001b[0m\u001b[0mactivation\u001b[0m\u001b[1;33m)\u001b[0m\u001b[1;33m(\u001b[0m\u001b[1;33m*\u001b[0m\u001b[0mself\u001b[0m\u001b[1;33m.\u001b[0m\u001b[0mact_params\u001b[0m\u001b[1;33m)\u001b[0m\u001b[1;33m\u001b[0m\u001b[1;33m\u001b[0m\u001b[0m\n\u001b[0m",
      "\u001b[1;32mc:\\Users\\anshs\\Desktop\\study\\Research\\SeQUeNCe_versions\\SeQUeNCe_old\\src\\components\\detector.py\u001b[0m in \u001b[0;36madd_dark_count\u001b[1;34m(self)\u001b[0m\n\u001b[0;32m     85\u001b[0m \u001b[1;33m\u001b[0m\u001b[0m\n\u001b[0;32m     86\u001b[0m         \u001b[1;32mif\u001b[0m \u001b[0mself\u001b[0m\u001b[1;33m.\u001b[0m\u001b[0mdark_count\u001b[0m \u001b[1;33m>\u001b[0m \u001b[1;36m0\u001b[0m\u001b[1;33m:\u001b[0m\u001b[1;33m\u001b[0m\u001b[1;33m\u001b[0m\u001b[0m\n\u001b[1;32m---> 87\u001b[1;33m             time_to_next = int(self.get_generator().exponential(\n\u001b[0m\u001b[0;32m     88\u001b[0m                 1 / self.dark_count) * 1e12)  # time to next dark count\n\u001b[0;32m     89\u001b[0m             \u001b[0mtime\u001b[0m \u001b[1;33m=\u001b[0m \u001b[0mtime_to_next\u001b[0m \u001b[1;33m+\u001b[0m \u001b[0mself\u001b[0m\u001b[1;33m.\u001b[0m\u001b[0mtimeline\u001b[0m\u001b[1;33m.\u001b[0m\u001b[0mnow\u001b[0m\u001b[1;33m(\u001b[0m\u001b[1;33m)\u001b[0m  \u001b[1;31m# time of next dark count\u001b[0m\u001b[1;33m\u001b[0m\u001b[1;33m\u001b[0m\u001b[0m\n",
      "\u001b[1;31mKeyboardInterrupt\u001b[0m: "
     ]
    }
   ],
   "source": [
    "try:\n",
    "    process = Process(sender.protocol, \"start\", [])\n",
    "    event = Event(0, process)\n",
    "    tl.schedule(event)\n",
    "\n",
    "    tl.init()\n",
    "    tl.run()\n",
    "\n",
    "    print(signal_receiver.protocol.detection_times)\n",
    "    \n",
    "    # n, bins, patches = plt.hist(signal_receiver.protocol.detection_times, range(-28125, 28126, 6250))\n",
    "    # plt.show()    \n",
    "except Exception:\n",
    "    print(traceback.format_exc())"
   ]
  },
  {
   "cell_type": "code",
   "execution_count": null,
   "metadata": {},
   "outputs": [
    {
     "data": {
      "text/plain": [
       "[-28125, -21875, -15625, -9375, -3125, 3125, 9375, 15625, 21875, 28125]"
      ]
     },
     "execution_count": 8,
     "metadata": {},
     "output_type": "execute_result"
    }
   ],
   "source": [
    "list(range(-28125, 28126, 6250))"
   ]
  },
  {
   "cell_type": "code",
   "execution_count": null,
   "metadata": {},
   "outputs": [
    {
     "name": "stdout",
     "output_type": "stream",
     "text": [
      "5166.420292564249\n"
     ]
    },
    {
     "data": {
      "text/plain": [
       "array([2.68721511e+11, 4.32074567e+11, 2.80921120e+11, 9.81621630e+11,\n",
       "       2.94179115e+09])"
      ]
     },
     "execution_count": 9,
     "metadata": {},
     "output_type": "execute_result"
    }
   ],
   "source": [
    "import numpy as np\n",
    "\n",
    "light_speed = 2 * 10**8\n",
    "optical_wavelength = 1536\n",
    "clock_power = 0.0003\n",
    "raman_coefficient = 4.6 * 10**(-10)\n",
    "narrow_band_filter_bandwidth = 1*10**(-6)\n",
    "clock_attenuation = 0.099\n",
    "h = 6.62607015 * 10**(-28)\n",
    "attenuation = 0.076\n",
    "raman_power = np.abs(clock_power * raman_coefficient * narrow_band_filter_bandwidth * (np.exp(-attenuation * 5) - np.exp(-clock_attenuation * 5)) / (attenuation - clock_attenuation))\n",
    "\n",
    "num_photons_added = raman_power / (h * light_speed / optical_wavelength)\n",
    "print(num_photons_added)\n",
    "# print(\"random_times:\", np.floor(1e12*np.random.rand(5)))\n",
    "# np.floor((5 * np.random.rand(5) / (3 * 10**5)) * 1e12)\n",
    "np.floor(1e12*np.random.rand(5))\n"
   ]
  }
 ],
 "metadata": {
  "kernelspec": {
   "display_name": "sequence",
   "language": "python",
   "name": "python3"
  },
  "language_info": {
   "codemirror_mode": {
    "name": "ipython",
    "version": 3
   },
   "file_extension": ".py",
   "mimetype": "text/x-python",
   "name": "python",
   "nbconvert_exporter": "python",
   "pygments_lexer": "ipython3",
   "version": "3.8.12"
  },
  "orig_nbformat": 4,
  "vscode": {
   "interpreter": {
    "hash": "88377a6e55324fa9aa820ea791dd8f39fd36953d0848c425874a504b22d55f60"
   }
  }
 },
 "nbformat": 4,
 "nbformat_minor": 2
}
