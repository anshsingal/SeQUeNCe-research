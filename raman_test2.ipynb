{
 "cells": [
  {
   "cell_type": "code",
   "execution_count": 1,
   "metadata": {},
   "outputs": [],
   "source": [
    "from src.kernel.timeline import Timeline\n",
    "from src.components.optical_channel import ClassicalChannel, PULSE_QuantumChannel\n",
    "from src.kernel.event import Event\n",
    "from src.kernel.process import Process\n",
    "from src.topology.node import raman_receiver_node, raman_sender_node\n",
    "from src.topology.node import PULSE_BSMNode, raman_sender_node\n",
    "from src.entanglement_management.raman_protocols import RamanTestReceiver\n",
    "from matplotlib import pyplot as plt\n",
    "import traceback\n",
    "import numpy as np\n",
    "import os\n",
    "from datetime import datetime"
   ]
  },
  {
   "cell_type": "code",
   "execution_count": 2,
   "metadata": {},
   "outputs": [],
   "source": [
    "def init_experiment_setup(params):\n",
    "    sender1 = raman_sender_node(\"PULSE_Quantum_Router_1\", params[\"tl\"], params[\"num_iterations\"], params[\"clock_power\"], params[\"narrow_band_filter_bandwidth\"], params[\"quantum_channel_wavelength\"], \n",
    "                               params[\"mean_photon_num\"], params[\"is_distinguishable\"], params[\"pulse_separation\"], params[\"batch_size\"], params[\"pulse_width\"])\n",
    "    sender2 = raman_sender_node(\"PULSE_Quantum_Router_3\", params[\"tl\"], params[\"num_iterations\"], params[\"clock_power\"], params[\"narrow_band_filter_bandwidth\"], params[\"quantum_channel_wavelength\"], \n",
    "                               params[\"mean_photon_num\"], params[\"is_distinguishable\"], params[\"pulse_separation\"], params[\"batch_size\"], params[\"pulse_width\"])\n",
    "    \n",
    "    receiver = PULSE_BSMNode(\"PULSE_BSM_2\", params[\"tl\"], ['sender1', \"sender2\"])\n",
    "    # idler_receiver = PULSE_BSM(\"idler_receiver\", params[\"tl\"], 'sender', params[\"collection_probability\"], params[\"dark_count_rate\"], params[\"dead_time\"], params[\"time_resolution\"])\n",
    "\n",
    "    receiver_protocol = RamanTestReceiver(receiver, params[\"pulse_separation\"])\n",
    "\n",
    "    # signal_receiver.attach_detector_to_receiver(receiver_protocol)\n",
    "    receiver.attach_detector_to_receiver(receiver_protocol)\n",
    "    sender1.attach_lightsource_to_receivers(\"receiver\")\n",
    "    sender2.attach_lightsource_to_receivers(\"receiver\")\n",
    "\n",
    "\n",
    "    Qchannel1 = PULSE_QuantumChannel(\"Qchannel1\", params[\"tl\"], params[\"quantum_channel_attenuation\"], params[\"classical_channel_attenuation\"], params[\"distance\"], params[\"raman_coefficient\"], \n",
    "                                    params[\"polarization_fidelity\"], params[\"light_speed\"], params[\"max_rate\"], params[\"quantum_channel_wavelength\"], params[\"classical_channel_wavelength\"], window_size = params[\"window_size\"])\n",
    "    Qchannel2 = PULSE_QuantumChannel(\"Qchannel2\", params[\"tl\"], params[\"quantum_channel_attenuation\"], params[\"classical_channel_attenuation\"], params[\"distance\"], params[\"raman_coefficient\"], \n",
    "                                    params[\"polarization_fidelity\"], params[\"light_speed\"], params[\"max_rate\"], params[\"quantum_channel_wavelength\"], params[\"classical_channel_wavelength\"], window_size = params[\"window_size\"])\n",
    "    Cchannel1 = ClassicalChannel(\"Cchannel1\", params[\"tl\"], params[\"distance\"])\n",
    "    Cchannel2 = ClassicalChannel(\"Cchannel2\", params[\"tl\"], params[\"distance\"])\n",
    "\n",
    "    Qchannel1.set_ends(sender1, \"receiver\")\n",
    "    Qchannel2.set_ends(sender2, \"receiver\")\n",
    "    Cchannel1.set_ends(sender1, \"receiver\")\n",
    "    Cchannel2.set_ends(sender2, \"receiver\")\n",
    "\n",
    "    return sender1, sender2"
   ]
  },
  {
   "cell_type": "code",
   "execution_count": 3,
   "metadata": {},
   "outputs": [],
   "source": [
    "experimental_parameters = {\n",
    "    \"tl\" : Timeline(5000e12),\n",
    "\n",
    "    # Parameters\n",
    "    # Detector_parameters\n",
    "    \"collection_probability\" : 10**(-1.2),\n",
    "    \"dark_count_rate\" : 100, #100,\n",
    "    \"dead_time\" : 25000,\n",
    "    \"time_resolution\" : 50,\n",
    "\n",
    "    # Optical channel\n",
    "    \"quantum_channel_attenuation\" : 0.44,\n",
    "    \"classical_channel_attenuation\" : 0.5,\n",
    "    \"distance\" : 2,\n",
    "    \"raman_coefficient\" : 33e-10,\n",
    "    \"polarization_fidelity\" : 1,\n",
    "    \"light_speed\" : 3e8,\n",
    "    \"max_rate\" : 1e12,\n",
    "    \"quantum_channel_wavelength\" : 1536e-9,\n",
    "    \"classical_channel_wavelength\" : 1610e-9,\n",
    "    \"window_size\" : 1e11,\n",
    "\n",
    "    # Light Source\n",
    "    # \"wavelength\" : quantum_channel_wavelength,\n",
    "    \"mean_photon_num\" : 2, # 0.00316228, # 0.01\n",
    "    \"is_distinguishable\" : True,\n",
    "    \"pulse_separation\" : 5e3,\n",
    "    \"pulse_width\" : 80,\n",
    "    \"batch_size\" : 5000, # 50000000,\n",
    "    \"num_iterations\" : 5, # 240, 600,\n",
    "\n",
    "    # Clock parameters\n",
    "    \"clock_power\" : 0.0003,\n",
    "    \"narrow_band_filter_bandwidth\" : 0.03,\n",
    "}"
   ]
  },
  {
   "cell_type": "code",
   "execution_count": 4,
   "metadata": {},
   "outputs": [
    {
     "name": "stdout",
     "output_type": "stream",
     "text": [
      "time of start: 2023-07-20 15:06:55.161534\n",
      "scheduling Raman photon detection at Qchannel1\n",
      "Raman photosns added 17940\n",
      "<class 'int'>\n",
      "emitting  now. Emission time is: 0\n",
      "emitting  now. Emission time is: 12500\n",
      "emitting  now. Emission time is: 25000\n",
      "emitting  now. Emission time is: 37500\n",
      "emitting  now. Emission time is: 50000\n",
      "last emit time: 50000\n",
      "<class 'int'>\n",
      "emitting  now. Emission time is: 0\n",
      "emitting  now. Emission time is: 12500\n",
      "emitting  now. Emission time is: 25000\n",
      "emitting  now. Emission time is: 37500\n",
      "emitting  now. Emission time is: 50000\n",
      "last emit time: 50000\n",
      "Scheduling arrivals of Raman photons\n",
      "Scheduling arrivals of Raman photons\n",
      "Photon object created at sender1. sending over channel now. Photon number is: 4\n",
      "in optical channel Qchannel1, sending photon with photon number 0\n",
      "Photon object created at sender2. sending over channel now. Photon number is: 1\n",
      "in optical channel Qchannel2, sending photon with photon number 0\n",
      "Photon object created at sender1. sending over channel now. Photon number is: 2\n",
      "in optical channel Qchannel1, sending photon with photon number 1\n",
      "Photon object created at sender2. sending over channel now. Photon number is: 1\n",
      "in optical channel Qchannel2, sending photon with photon number 0\n",
      "Photon object created at sender1. sending over channel now. Photon number is: 3\n",
      "in optical channel Qchannel1, sending photon with photon number 1\n",
      "Photon object created at sender2. sending over channel now. Photon number is: 1\n",
      "in optical channel Qchannel2, sending photon with photon number 0\n",
      "Photon object created at sender1. sending over channel now. Photon number is: 3\n",
      "in optical channel Qchannel1, sending photon with photon number 0\n",
      "Photon object created at sender2. sending over channel now. Photon number is: 0\n",
      "in optical channel Qchannel2, sending photon with photon number 0\n",
      "Photon object created at sender2. sending over channel now. Photon number is: 2\n",
      "in optical channel Qchannel2, sending photon with photon number 0\n",
      "Photon object created at sender1. sending over channel now. Photon number is: 5\n",
      "in optical channel Qchannel1, sending photon with photon number 1\n",
      "There is another photon scheduled for the same time. Moving on\n",
      "processing interference\n",
      "Hong Ou Mandel detected\n",
      "Qubit photon detected\n",
      "we are within detection window\n",
      "processing detection at 6666667\n",
      "notification at {'time': 6666667} at time: 6666667\n",
      "Qubit photon detected\n",
      "There is another photon scheduled for the same time. Moving on\n",
      "There is another photon scheduled for the same time. Moving on\n",
      "There is another photon scheduled for the same time. Moving on\n",
      "There is another photon scheduled for the same time. Moving on\n",
      "Both photons at same time have been detected. proceeding with measurement.\n",
      "noisy photon was detected.\n",
      "we are within detection window\n",
      "processing detection at 38436227.22581319\n",
      "notification at {'time': 38436227.22581319} at time: 38436227.22581319\n",
      "noisy photon was detected.\n",
      "we are within detection window\n",
      "processing detection at 50439363.09627739\n",
      "notification at {'time': 50439363.09627739} at time: 50439363.09627739\n",
      "noisy photon was detected.\n",
      "we are within detection window\n",
      "processing detection at 57618287.03108041\n",
      "notification at {'time': 57618287.03108041} at time: 57618287.03108041\n",
      "noisy photon was detected.\n",
      "we are within detection window\n",
      "processing detection at 63460164.963013984\n",
      "notification at {'time': 63460164.963013984} at time: 63460164.963013984\n",
      "stopped sim and starting processing at time 2023-07-20 15:06:55.382532\n",
      "idler buffer: 26\n"
     ]
    },
    {
     "name": "stderr",
     "output_type": "stream",
     "text": [
      "c:\\Users\\anshs\\Desktop\\study\\Argonne\\SeQUeNCe\\SeQUeNCe\\src\\entanglement_management\\raman_protocols.py:163: RuntimeWarning: invalid value encountered in true_divide\n",
      "  CAR = matched_correlation/(sum(unmatched_correlations)/len(unmatched_correlations))\n",
      "c:\\Users\\anshs\\Desktop\\study\\Argonne\\SeQUeNCe\\SeQUeNCe\\src\\entanglement_management\\raman_protocols.py:168: UserWarning: Data has no positive values, and therefore cannot be log-scaled.\n",
      "  plt.yscale('log')\n"
     ]
    },
    {
     "name": "stdout",
     "output_type": "stream",
     "text": [
      "CAR: nan\n"
     ]
    },
    {
     "data": {
      "image/png": "[encoded data removed]",
      "text/plain": [
       "<Figure size 432x288 with 1 Axes>"
      ]
     },
     "metadata": {
      "needs_background": "light"
     },
     "output_type": "display_data"
    },
    {
     "name": "stdout",
     "output_type": "stream",
     "text": [
      "simulation ended at 2023-07-20 15:06:57.020519\n"
     ]
    }
   ],
   "source": [
    "try:\n",
    "    now = datetime.now()\n",
    "    print(\"time of start:\", now)\n",
    "    experimental_parameters[\"tl\"] = Timeline(5000e12)\n",
    "    # experimental_parameters[\"mean_photon_num\"] = 0.01\n",
    "    sender1, sender2 = init_experiment_setup(experimental_parameters)\n",
    "    \n",
    "    process1 = Process(sender1.protocol, \"start\", [True])\n",
    "    event1 = Event(0, process1)\n",
    "    experimental_parameters[\"tl\"].schedule(event1)\n",
    "\n",
    "    process2 = Process(sender2.protocol, \"start\", [False])\n",
    "    event2 = Event(0, process2)\n",
    "    experimental_parameters[\"tl\"].schedule(event2)\n",
    "\n",
    "    experimental_parameters[\"tl\"].init()\n",
    "    experimental_parameters[\"tl\"].run()\n",
    "    #     file = open(\"CAR_Data.txt\")\n",
    "    #     CAR_Data.append(list(map(float, file.readlines())))\n",
    "    #     file.close()\n",
    "    #     os.remove(\"CAR_Data.txt\")\n",
    "    # plt.boxplot(list(zip(*CAR_Data)))\n",
    "    # plt.xticks(np.arange(num_samples)+1, np.logspace(min_mpn, max_mpn, num_samples))\n",
    "\n",
    "        \n",
    "\n",
    "    # print(signal_receiver.protocol.coincidence_times)\n",
    "    \n",
    "    # n, bins, patches = plt.hist(signal_receiver.protocol.detection_times, range(-28125, 28126, 6250))\n",
    "    # plt.show() \n",
    "    print(\"simulation ended at\", datetime.now())   \n",
    "except Exception:\n",
    "    print(traceback.format_exc())"
   ]
  },
  {
   "cell_type": "markdown",
   "metadata": {},
   "source": [
    "try:\n",
    "    CAR_Data = []\n",
    "    for j in range(1):\n",
    "        for i in np.linspace(-1.2,-1.8,5):\n",
    "            print(\"I,j:\", i, j)\n",
    "            experimental_parameters[\"tl\"] = Timeline(5000e12)\n",
    "            experimental_parameters[\"collection_probability\"] = 10**i\n",
    "            sender = init_experiment_setup(experimental_parameters)\n",
    "            process = Process(sender.protocol, \"start\", [])\n",
    "            event = Event(0, process)\n",
    "            experimental_parameters[\"tl\"].schedule(event)\n",
    "\n",
    "            experimental_parameters[\"tl\"].init()\n",
    "            experimental_parameters[\"tl\"].run()\n",
    "        file = open(\"CAR_Data.txt\")\n",
    "        CAR_Data.append(list(map(float, file.readlines())))\n",
    "        file.close()\n",
    "   \n",
    "except Exception:\n",
    "    print(traceback.format_exc())"
   ]
  },
  {
   "cell_type": "code",
   "execution_count": 18,
   "metadata": {},
   "outputs": [
    {
     "name": "stdout",
     "output_type": "stream",
     "text": [
      "len of temp_data: 2\n",
      "[[nan, nan], [], []]\n"
     ]
    },
    {
     "name": "stderr",
     "output_type": "stream",
     "text": [
      "C:\\Users\\anshs\\AppData\\Local\\Temp/ipykernel_25696/420326573.py:17: UserWarning: FixedFormatter should only be used together with FixedLocator\n",
      "  ax.set_xticklabels(labels)\n"
     ]
    },
    {
     "data": {
      "text/plain": [
       "{'whiskers': [<matplotlib.lines.Line2D at 0x2e87733f640>,\n",
       "  <matplotlib.lines.Line2D at 0x2e877337e80>],\n",
       " 'caps': [<matplotlib.lines.Line2D at 0x2e87732e9d0>,\n",
       "  <matplotlib.lines.Line2D at 0x2e87734b2b0>],\n",
       " 'boxes': [<matplotlib.lines.Line2D at 0x2e87733fc70>],\n",
       " 'medians': [<matplotlib.lines.Line2D at 0x2e87734b580>],\n",
       " 'fliers': [<matplotlib.lines.Line2D at 0x2e87734bb20>],\n",
       " 'means': [<matplotlib.lines.Line2D at 0x2e87734b850>]}"
      ]
     },
     "execution_count": 18,
     "metadata": {},
     "output_type": "execute_result"
    },
    {
     "data": {
      "image/png": "[encoded data removed]",
      "text/plain": [
       "<Figure size 432x288 with 1 Axes>"
      ]
     },
     "metadata": {
      "needs_background": "light"
     },
     "output_type": "display_data"
    }
   ],
   "source": [
    "CAR_Data = []\n",
    "temp_data = []\n",
    "file = open(\"CAR_Data.txt\")\n",
    "temp_data.append(list(map(float, file.readlines())))\n",
    "file.close()\n",
    "\n",
    "print(\"len of temp_data:\", len(temp_data[0]))\n",
    "\n",
    "for i in range(3):\n",
    "    CAR_Data.append(temp_data[0][i*5:(i+1)*5])\n",
    "\n",
    "print(CAR_Data)\n",
    "\n",
    "fig, ax = plt.subplots()\n",
    "fig.canvas.draw()\n",
    "labels = [str(i)[1:6] for i in np.linspace(-1.2,-1.8,5)]# [0.000562341,0.001,0.001778279,0.00316228,0.00562341,0.01,0.01778279,0.03162278,0.05623413,0.1]]\n",
    "ax.set_xticklabels(labels)\n",
    "ax.set_xlabel(\"Mean Photon numbers\")\n",
    "ax.set_ylabel(\"CAR\")\n",
    "plt.boxplot(list(zip(*CAR_Data)), meanline = True, showmeans=True, medianprops={\"linewidth\":0})"
   ]
  },
  {
   "cell_type": "code",
   "execution_count": 19,
   "metadata": {},
   "outputs": [
    {
     "name": "stdout",
     "output_type": "stream",
     "text": [
      "<class 'numpy.int64'>\n"
     ]
    }
   ],
   "source": [
    "import numpy as np\n",
    "a = np.array([123456788,234787359837,324782648923,4743287894279])\n",
    "# b = np.array([5.,6.,7.,8.])\n",
    "print(type(a[1]))\n",
    "with open(\"temp.txt\", \"wb+\") as fileID:\n",
    "    fileID.write(a.data)\n",
    "# fileID.close()\n",
    "\n",
    "# fileID = open(\"temp.txt\", \"ab+\")\n",
    "# fileID.write(b.data)\n",
    "# fileID.close()\n",
    "\n"
   ]
  },
  {
   "cell_type": "code",
   "execution_count": 20,
   "metadata": {},
   "outputs": [
    {
     "name": "stdout",
     "output_type": "stream",
     "text": [
      "time taken: 0.46305084228515625\n"
     ]
    }
   ],
   "source": [
    "import time\n",
    "a = np.array([])\n",
    "start = time.time()\n",
    "# a = np.random.rand(1000000)\n",
    "for i in range(1000000):\n",
    "    np.random.rand()\n",
    "print(\"time taken:\", time.time()-start)\n"
   ]
  },
  {
   "cell_type": "code",
   "execution_count": 1117,
   "metadata": {},
   "outputs": [
    {
     "name": "stdout",
     "output_type": "stream",
     "text": [
      "max Position: 0.3189550474392806\n",
      "Raman photosns added 12\n"
     ]
    }
   ],
   "source": [
    "\n",
    "\"\"\" adds a photon train of noisy photons scattered from the classical band into the quantum band.\"\"\"\n",
    "\n",
    "h = 6.62607015 * 10**(-34)\n",
    "c = 3 * 10**8\n",
    "clock_power = 0.0003\n",
    "raman_coefficient = 33e-10\n",
    "narrow_band_filter_bandwidth = 0.3\n",
    "attenuation = 0.1\n",
    "classical_channel_attenuation = 7\n",
    "quantum_channel_wavelength = 1536e-9\n",
    "\n",
    "window_size = 6.66e6\n",
    "pulse_width = 1e-5\n",
    "distance = 2\n",
    "\n",
    "raman_power = np.abs(clock_power * raman_coefficient * narrow_band_filter_bandwidth * (np.exp(-attenuation * pulse_width) - np.exp(-classical_channel_attenuation * pulse_width)) / (attenuation - classical_channel_attenuation))\n",
    "raman_energy = raman_power * window_size/1e12\n",
    "mean_num_photons = (raman_energy / (h * c / quantum_channel_wavelength))\n",
    "\n",
    "num_photons_added = sum(np.random.poisson(mean_num_photons, 50000))\n",
    "dAlpha = attenuation - classical_channel_attenuation\n",
    "positions = []\n",
    "# np.exp(distance * classical_channel_attenuation)\n",
    "for i in range(num_photons_added):\n",
    "    positions.append((1/dAlpha) * np.log((np.exp(distance * dAlpha) - 1) * np.random.rand() + 1))\n",
    "\n",
    "\n",
    "print(\"max Position:\", max(positions))\n",
    "print(\"Raman photosns added\", num_photons_added)\n",
    "\n",
    "# photon_generation_times = np.random.rand(num_photons_added) * window_size"
   ]
  },
  {
   "cell_type": "code",
   "execution_count": null,
   "metadata": {},
   "outputs": [
    {
     "ename": "NameError",
     "evalue": "name 'i' is not defined",
     "output_type": "error",
     "traceback": [
      "\u001b[1;31m---------------------------------------------------------------------------\u001b[0m",
      "\u001b[1;31mNameError\u001b[0m                                 Traceback (most recent call last)",
      "\u001b[1;32m~\\AppData\\Local\\Temp/ipykernel_24596/2773791560.py\u001b[0m in \u001b[0;36m<module>\u001b[1;34m\u001b[0m\n\u001b[0;32m      3\u001b[0m \u001b[0mheapq\u001b[0m\u001b[1;33m.\u001b[0m\u001b[0mheapify\u001b[0m\u001b[1;33m(\u001b[0m\u001b[0ma\u001b[0m\u001b[1;33m)\u001b[0m\u001b[1;33m\u001b[0m\u001b[1;33m\u001b[0m\u001b[0m\n\u001b[0;32m      4\u001b[0m \u001b[1;31m# heapq.heappush(a, 3)\u001b[0m\u001b[1;33m\u001b[0m\u001b[1;33m\u001b[0m\u001b[1;33m\u001b[0m\u001b[0m\n\u001b[1;32m----> 5\u001b[1;33m \u001b[1;32mwhile\u001b[0m \u001b[0mi\u001b[0m \u001b[1;32min\u001b[0m \u001b[0ma\u001b[0m\u001b[1;33m:\u001b[0m\u001b[1;33m\u001b[0m\u001b[1;33m\u001b[0m\u001b[0m\n\u001b[0m\u001b[0;32m      6\u001b[0m     \u001b[0mprint\u001b[0m\u001b[1;33m(\u001b[0m\u001b[0mi\u001b[0m\u001b[1;33m)\u001b[0m\u001b[1;33m\u001b[0m\u001b[1;33m\u001b[0m\u001b[0m\n",
      "\u001b[1;31mNameError\u001b[0m: name 'i' is not defined"
     ]
    }
   ],
   "source": [
    "import re\n",
    "a = \"sender_42\"\n",
    "print(re.find(\"_\", a))"
   ]
  }
 ],
 "metadata": {
  "kernelspec": {
   "display_name": "sequence",
   "language": "python",
   "name": "python3"
  },
  "language_info": {
   "codemirror_mode": {
    "name": "ipython",
    "version": 3
   },
   "file_extension": ".py",
   "mimetype": "text/x-python",
   "name": "python",
   "nbconvert_exporter": "python",
   "pygments_lexer": "ipython3",
   "version": "3.8.12"
  },
  "orig_nbformat": 4,
  "vscode": {
   "interpreter": {
    "hash": "88377a6e55324fa9aa820ea791dd8f39fd36953d0848c425874a504b22d55f60"
   }
  }
 },
 "nbformat": 4,
 "nbformat_minor": 2
}
