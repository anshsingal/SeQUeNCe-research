{
 "cells": [
  {
   "cell_type": "code",
   "execution_count": 1,
   "metadata": {},
   "outputs": [],
   "source": [
    "from src.kernel.timeline import Timeline\n",
    "from src.components.optical_channel import ClassicalChannel, QuantumChannel\n",
    "from src.kernel.event import Event\n",
    "from src.kernel.process import Process\n",
    "from src.topology.node import raman_receiver_node, raman_sender_node\n",
    "from src.entanglement_management.raman_protocols import RamanTestReceiver\n"
   ]
  },
  {
   "cell_type": "code",
   "execution_count": 2,
   "metadata": {},
   "outputs": [],
   "source": [
    "def init_experiment_setup(params):\n",
    "    sender = raman_sender_node(\"sender\", params[\"tl\"], params[\"num_iterations\"], params[\"clock_power\"], params[\"narrow_band_filter_bandwidth\"], params[\"quantum_channel_wavelength\"], \n",
    "                               params[\"mean_photon_num\"], params[\"is_distinguishable\"], params[\"pulse_separation\"], params[\"batch_size\"], params[\"pulse_width\"])\n",
    "    signal_receiver = raman_receiver_node(\"signal_receiver\", params[\"tl\"], 'sender', params[\"collection_probability\"], params[\"dark_count_rate\"], params[\"dead_time\"], params[\"time_resolution\"])\n",
    "    idler_receiver = raman_receiver_node(\"idler_receiver\", params[\"tl\"], 'sender', params[\"collection_probability\"], params[\"dark_count_rate\"], params[\"dead_time\"], params[\"time_resolution\"])\n",
    "\n",
    "    receiver_protocol = RamanTestReceiver(signal_receiver, idler_receiver, 'sender', params[\"pulse_separation\"])\n",
    "\n",
    "    signal_receiver.attach_detector_to_receiver(receiver_protocol)\n",
    "    idler_receiver.attach_detector_to_receiver(receiver_protocol)\n",
    "    sender.attach_lightsource_to_receivers(\"signal_receiver\", \"idler_receiver\")\n",
    "\n",
    "\n",
    "    signal_channel = QuantumChannel(\"signal_channel\", params[\"tl\"], params[\"quantum_channel_attenuation\"], params[\"classical_channel_attenuation\"], params[\"distance\"], params[\"raman_coefficient\"], \n",
    "                                    params[\"polarization_fidelity\"], params[\"light_speed\"], params[\"max_rate\"], params[\"quantum_channel_wavelength\"], params[\"classical_channel_wavelength\"])\n",
    "    idler_channel = QuantumChannel(\"idler_channel\", params[\"tl\"], params[\"quantum_channel_attenuation\"], params[\"classical_channel_attenuation\"], params[\"distance\"], params[\"raman_coefficient\"], \n",
    "                                    params[\"polarization_fidelity\"], params[\"light_speed\"], params[\"max_rate\"], params[\"quantum_channel_wavelength\"], params[\"classical_channel_wavelength\"])\n",
    "    classical_channel = ClassicalChannel(\"classical_channel\", params[\"tl\"], params[\"distance\"])\n",
    "    signal_channel.set_ends(sender, \"signal_receiver\")\n",
    "    idler_channel.set_ends(sender, \"idler_receiver\")\n",
    "    classical_channel.set_ends(sender, \"signal_receiver\")\n",
    "\n",
    "    return sender"
   ]
  },
  {
   "cell_type": "code",
   "execution_count": 3,
   "metadata": {},
   "outputs": [],
   "source": [
    "experimental_parameters = {\n",
    "    \"tl\" : Timeline(5000e12),\n",
    "\n",
    "    # Parameters\n",
    "    # Detector_parameters\n",
    "    \"collection_probability\" : 0.8,\n",
    "    \"dark_count_rate\" : 100,\n",
    "    \"dead_time\" : 250,\n",
    "    \"time_resolution\" : 50,\n",
    "\n",
    "    # Optical channel\n",
    "    \"quantum_channel_attenuation\" : 0.44,\n",
    "    \"classical_channel_attenuation\" : 0.5,\n",
    "    \"distance\" : 2,\n",
    "    \"raman_coefficient\" : 33e-10,\n",
    "    \"polarization_fidelity\" : 1,\n",
    "    \"light_speed\" : 3e8,\n",
    "    \"max_rate\" : 1e12,\n",
    "    \"quantum_channel_wavelength\" : 1536e-9,\n",
    "    \"classical_channel_wavelength\" : 1610e-9,\n",
    "\n",
    "    # Light Source\n",
    "    # \"wavelength\" : quantum_channel_wavelength,\n",
    "    \"mean_photon_num\" : 0.01, # 0.01\n",
    "    \"is_distinguishable\" : True,\n",
    "    \"pulse_separation\" : 5e3,\n",
    "    \"pulse_width\" : 80,\n",
    "    \"batch_size\" : 50000000,\n",
    "    \"num_iterations\" : 1,\n",
    "\n",
    "    # Clock parameters\n",
    "    \"clock_power\" : 0.0003,\n",
    "    \"narrow_band_filter_bandwidth\" : 0.03,\n",
    "}"
   ]
  },
  {
   "cell_type": "code",
   "execution_count": 4,
   "metadata": {},
   "outputs": [
    {
     "name": "stdout",
     "output_type": "stream",
     "text": [
      "last emit time: 254000000000.0\n",
      "Raman photosns added 45567\n",
      "pulse window ID 0\n",
      "stopped sim and starting processing\n",
      "sorting window 0\n",
      "done with dark count removal\n",
      "done with dark count removal\n",
      "sorted window 0\n",
      "found correlations for window: 0\n",
      "CAR: 416.0\n"
     ]
    },
    {
     "data": {
      "image/png": "[encoded data removed]",
      "text/plain": [
       "<Figure size 432x288 with 1 Axes>"
      ]
     },
     "metadata": {
      "needs_background": "light"
     },
     "output_type": "display_data"
    },
    {
     "name": "stdout",
     "output_type": "stream",
     "text": [
      "last emit time: 254000000000.0\n",
      "Raman photosns added 45567\n",
      "pulse window ID 0\n",
      "stopped sim and starting processing\n",
      "sorting window 0\n",
      "done with dark count removal\n",
      "done with dark count removal\n",
      "sorted window 0\n",
      "found correlations for window: 0\n",
      "CAR: 2137.0\n"
     ]
    },
    {
     "data": {
      "image/png": "[encoded data removed]",
      "text/plain": [
       "<Figure size 432x288 with 1 Axes>"
      ]
     },
     "metadata": {
      "needs_background": "light"
     },
     "output_type": "display_data"
    },
    {
     "name": "stdout",
     "output_type": "stream",
     "text": [
      "last emit time: 254000000000.0\n",
      "Raman photosns added 45567\n",
      "pulse window ID 0\n",
      "stopped sim and starting processing\n",
      "sorting window 0\n",
      "done with dark count removal\n",
      "done with dark count removal\n",
      "sorted window 0\n",
      "found correlations for window: 0\n",
      "CAR: 1036.8292682926829\n"
     ]
    },
    {
     "data": {
      "image/png": "[encoded data removed]",
      "text/plain": [
       "<Figure size 432x288 with 1 Axes>"
      ]
     },
     "metadata": {
      "needs_background": "light"
     },
     "output_type": "display_data"
    },
    {
     "name": "stdout",
     "output_type": "stream",
     "text": [
      "last emit time: 254000000000.0\n",
      "Raman photosns added 45567\n",
      "pulse window ID 0\n",
      "stopped sim and starting processing\n",
      "sorting window 0\n",
      "done with dark count removal\n",
      "done with dark count removal\n",
      "sorted window 0\n",
      "found correlations for window: 0\n",
      "CAR: 99.0586046511628\n"
     ]
    },
    {
     "data": {
      "image/png": "[encoded data removed]",
      "text/plain": [
       "<Figure size 432x288 with 1 Axes>"
      ]
     },
     "metadata": {
      "needs_background": "light"
     },
     "output_type": "display_data"
    },
    {
     "name": "stdout",
     "output_type": "stream",
     "text": [
      "last emit time: 254000000000.0\n",
      "Raman photosns added 45567\n",
      "pulse window ID 0\n",
      "stopped sim and starting processing\n",
      "sorting window 0\n",
      "done with dark count removal\n",
      "done with dark count removal\n",
      "sorted window 0\n",
      "found correlations for window: 0\n",
      "CAR: 10.547661332162669\n"
     ]
    },
    {
     "data": {
      "image/png": "[encoded data removed]",
      "text/plain": [
       "<Figure size 432x288 with 1 Axes>"
      ]
     },
     "metadata": {
      "needs_background": "light"
     },
     "output_type": "display_data"
    }
   ],
   "source": [
    "import traceback\n",
    "try:\n",
    "    for i in range(5, 0, -1):\n",
    "        experimental_parameters[\"tl\"] = Timeline(5000e12)\n",
    "        experimental_parameters[\"mean_photon_num\"] = 10**(-i)\n",
    "        sender = init_experiment_setup(experimental_parameters)\n",
    "        process = Process(sender.protocol, \"start\", [])\n",
    "        event = Event(0, process)\n",
    "        experimental_parameters[\"tl\"].schedule(event)\n",
    "\n",
    "        experimental_parameters[\"tl\"].init()\n",
    "        experimental_parameters[\"tl\"].run()\n",
    "\n",
    "    # print(signal_receiver.protocol.coincidence_times)\n",
    "    \n",
    "    # n, bins, patches = plt.hist(signal_receiver.protocol.detection_times, range(-28125, 28126, 6250))\n",
    "    # plt.show()    \n",
    "except Exception:\n",
    "    print(traceback.format_exc())"
   ]
  },
  {
   "cell_type": "code",
   "execution_count": 8,
   "metadata": {},
   "outputs": [
    {
     "data": {
      "image/png": "[encoded data removed]",
      "text/plain": [
       "<Figure size 432x288 with 1 Axes>"
      ]
     },
     "metadata": {
      "needs_background": "light"
     },
     "output_type": "display_data"
    }
   ],
   "source": [
    "import numpy as np\n",
    "from matplotlib import pyplot as plt\n",
    "# np.linspace(1e-5, 1e-1, 20)\n",
    "data = [416, 2137, 1036.82, 99.05, 10.54]\n",
    "plt.plot([10**-5, 10**-4, 10**-3, 10**-2, 10**-1], data, \"ro\")\n",
    "plt.xscale(\"log\")"
   ]
  }
 ],
 "metadata": {
  "kernelspec": {
   "display_name": "sequence",
   "language": "python",
   "name": "python3"
  },
  "language_info": {
   "codemirror_mode": {
    "name": "ipython",
    "version": 3
   },
   "file_extension": ".py",
   "mimetype": "text/x-python",
   "name": "python",
   "nbconvert_exporter": "python",
   "pygments_lexer": "ipython3",
   "version": "3.8.12"
  },
  "orig_nbformat": 4,
  "vscode": {
   "interpreter": {
    "hash": "88377a6e55324fa9aa820ea791dd8f39fd36953d0848c425874a504b22d55f60"
   }
  }
 },
 "nbformat": 4,
 "nbformat_minor": 2
}
