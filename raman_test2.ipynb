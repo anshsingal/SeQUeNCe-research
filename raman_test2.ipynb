{
 "cells": [
  {
   "cell_type": "code",
   "execution_count": 1,
   "metadata": {},
   "outputs": [
    {
     "ename": "ModuleNotFoundError",
     "evalue": "No module named 'src'",
     "output_type": "error",
     "traceback": [
      "\u001b[0;31m---------------------------------------------------------------------------\u001b[0m",
      "\u001b[0;31mModuleNotFoundError\u001b[0m                       Traceback (most recent call last)",
      "\u001b[0;32m/tmp/ipykernel_2525433/3911426863.py\u001b[0m in \u001b[0;36m<module>\u001b[0;34m\u001b[0m\n\u001b[0;32m----> 1\u001b[0;31m \u001b[0;32mfrom\u001b[0m \u001b[0msrc\u001b[0m\u001b[0;34m.\u001b[0m\u001b[0mkernel\u001b[0m\u001b[0;34m.\u001b[0m\u001b[0mtimeline\u001b[0m \u001b[0;32mimport\u001b[0m \u001b[0mTimeline\u001b[0m\u001b[0;34m\u001b[0m\u001b[0;34m\u001b[0m\u001b[0m\n\u001b[0m\u001b[1;32m      2\u001b[0m \u001b[0;32mfrom\u001b[0m \u001b[0msrc\u001b[0m\u001b[0;34m.\u001b[0m\u001b[0mcomponents\u001b[0m\u001b[0;34m.\u001b[0m\u001b[0moptical_channel\u001b[0m \u001b[0;32mimport\u001b[0m \u001b[0mClassicalChannel\u001b[0m\u001b[0;34m\u001b[0m\u001b[0;34m\u001b[0m\u001b[0m\n\u001b[1;32m      3\u001b[0m \u001b[0;32mfrom\u001b[0m \u001b[0msrc\u001b[0m\u001b[0;34m.\u001b[0m\u001b[0mkernel\u001b[0m\u001b[0;34m.\u001b[0m\u001b[0mevent\u001b[0m \u001b[0;32mimport\u001b[0m \u001b[0mEvent\u001b[0m\u001b[0;34m\u001b[0m\u001b[0;34m\u001b[0m\u001b[0m\n\u001b[1;32m      4\u001b[0m \u001b[0;32mfrom\u001b[0m \u001b[0msrc\u001b[0m\u001b[0;34m.\u001b[0m\u001b[0mkernel\u001b[0m\u001b[0;34m.\u001b[0m\u001b[0mprocess\u001b[0m \u001b[0;32mimport\u001b[0m \u001b[0mProcess\u001b[0m\u001b[0;34m\u001b[0m\u001b[0;34m\u001b[0m\u001b[0m\n\u001b[1;32m      5\u001b[0m \u001b[0;32mfrom\u001b[0m \u001b[0msrc\u001b[0m\u001b[0;34m.\u001b[0m\u001b[0mtopology\u001b[0m\u001b[0;34m.\u001b[0m\u001b[0mnode\u001b[0m \u001b[0;32mimport\u001b[0m \u001b[0mraman_receiver_node\u001b[0m\u001b[0;34m,\u001b[0m \u001b[0mraman_sender_node\u001b[0m\u001b[0;34m\u001b[0m\u001b[0;34m\u001b[0m\u001b[0m\n",
      "\u001b[0;31mModuleNotFoundError\u001b[0m: No module named 'src'"
     ]
    }
   ],
   "source": [
    "from src.kernel.timeline import Timeline\n",
    "from src.components.optical_channel import ClassicalChannel\n",
    "from src.kernel.event import Event\n",
    "from src.kernel.process import Process\n",
    "from src.topology.node import raman_receiver_node, raman_sender_node\n",
    "from src.topology.node import PULSE_BSMNode, raman_sender_node\n",
    "from src.entanglement_management.raman_protocols import RamanTestReceiver\n",
    "from matplotlib import pyplot as plt\n",
    "import traceback\n",
    "import numpy as np\n",
    "import os\n",
    "from datetime import datetime"
   ]
  },
  {
   "cell_type": "code",
   "execution_count": 2,
   "metadata": {},
   "outputs": [],
   "source": [
    "def init_experiment_setup(params):\n",
    "    sender1 = raman_sender_node(\"PULSE_Quantum_Router_1\", params[\"tl\"], params[\"num_iterations\"], params[\"clock_power\"], params(\"narrow_band_filter_bandwidth\"], params[\"quantum_channel_wavelength\"], \n",
    "                               params[\"mean_photon_num\"], params[\"is_distinguishable\"], params[\"pulse_separation\"], params[\"batch_size\"], params[\"pulse_width\"])\n",
    "    sender2 = raman_sender_node(\"PULSE_Quantum_Router_3\", params[\"tl\"], params[\"num_iterations\"], params[\"clock_power\"], params[\"narrow_band_filter_bandwidth\"], params[\"quantum_channel_wavelength\"], \n",
    "                               params[\"mean_photon_num\"], params[\"is_distinguishable\"], params[\"pulse_separation\"], params[\"batch_size\"], params[\"pulse_width\"])\n",
    "    \n",
    "    receiver = PULSE_BSMNode(\"PULSE_BSM_2\", params[\"tl\"], ['sender1', \"sender2\"])\n",
    "    # idler_receiver = PULSE_BSM(\"idler_receiver\", params[\"tl\"], 'sender', params[\"collection_probability\"], params[\"dark_count_rate\"], params[\"dead_time\"], params[\"time_resolution\"])\n",
    "\n",
    "    receiver_protocol = RamanTestReceiver(receiver, params[\"pulse_separation\"])\n",
    "\n",
    "    # signal_receiver.attach_detector_to_receiver(receiver_protocol)\n",
    "    receiver.attach_detector_to_receiver(receiver_protocol)\n",
    "    sender1.attach_lightsource_to_receivers(\"receiver\")\n",
    "    sender2.attach_lightsource_to_receivers(\"receiver\")\n",
    "\n",
    "\n",
    "    Qchannel1 = PULSE_QuantumChannel(\"Qchannel1\", params[\"tl\"], params[\"quantum_channel_attenuation\"], params[\"classical_channel_attenuation\"], params[\"distance\"], params[\"raman_coefficient\"], \n",
    "                                    params[\"polarization_fidelity\"], params[\"light_speed\"], params[\"max_rate\"], params[\"quantum_channel_wavelength\"], params[\"classical_channel_wavelength\"], window_size = params[\"window_size\"])\n",
    "    Qchannel2 = PULSE_QuantumChannel(\"Qchannel2\", params[\"tl\"], params[\"quantum_channel_attenuation\"], params[\"classical_channel_attenuation\"], params[\"distance\"], params[\"raman_coefficient\"], \n",
    "                                    params[\"polarization_fidelity\"], params[\"light_speed\"], params[\"max_rate\"], params[\"quantum_channel_wavelength\"], params[\"classical_channel_wavelength\"], window_size = params[\"window_size\"])\n",
    "    Cchannel1 = ClassicalChannel(\"Cchannel1\", params[\"tl\"], params[\"distance\"])\n",
    "    Cchannel2 = ClassicalChannel(\"Cchannel2\", params[\"tl\"], params[\"distance\"])\n",
    "\n",
    "    Qchannel1.set_ends(sender1, \"receiver\")\n",
    "    Qchannel2.set_ends(sender2, \"receiver\")\n",
    "    Cchannel1.set_ends(sender1, \"receiver\")\n",
    "    Cchannel2.set_ends(sender2, \"receiver\")\n",
    "\n",
    "    return sender1, sender2"
   ]
  },
  {
   "cell_type": "code",
   "execution_count": 3,
   "metadata": {},
   "outputs": [],
   "source": [
    "experimental_parameters = {\n",
    "    \"tl\" : Timeline(5000e12),\n",
    "\n",
    "    # Parameters\n",
    "    # Detector_parameters\n",
    "    \"collection_probability\" : 10**(-1.2),\n",
    "    \"dark_count_rate\" : 100, #100,\n",
    "    \"dead_time\" : 25000,\n",
    "    \"time_resolution\" : 50,\n",
    "\n",
    "    # Optical channel\n",
    "    \"quantum_channel_attenuation\" : 0.44,\n",
    "    \"classical_channel_attenuation\" : 0.5,\n",
    "    \"distance\" : 2,\n",
    "    \"raman_coefficient\" : 33e-10,\n",
    "    \"polarization_fidelity\" : 1,\n",
    "    \"light_speed\" : 3e8,\n",
    "    \"max_rate\" : 1e12,\n",
    "    \"quantum_channel_wavelength\" : 1536e-9,\n",
    "    \"classical_channel_wavelength\" : 1610e-9,\n",
    "    \"window_size\" : 1e11,\n",
    "\n",
    "    # Light Source\n",
    "    # \"wavelength\" : quantum_channel_wavelength,\n",
    "    \"mean_photon_num\" : 2, # 0.00316228, # 0.01\n",
    "    \"is_distinguishable\" : True,\n",
    "    \"pulse_separation\" : 5e3,\n",
    "    \"pulse_width\" : 80,\n",
    "    \"batch_size\" : 5000, # 50000000,\n",
    "    \"num_iterations\" : 5, # 240, 600,\n",
    "\n",
    "    # Clock parameters\n",
    "    \"clock_power\" : 0.0003,\n",
    "    \"narrow_band_filter_bandwidth\" : 0.03,\n",
    "}"
   ]
  },
  {
   "cell_type": "code",
   "execution_count": 4,
   "metadata": {},
   "outputs": [
    {
     "name": "stdout",
     "output_type": "stream",
     "text": [
      "time of start: 2023-07-20 15:06:55.161534\n",
      "scheduling Raman photon detection at Qchannel1\n",
      "Raman photosns added 17940\n",
      "<class 'int'>\n",
      "emitting  now. Emission time is: 0\n",
      "emitting  now. Emission time is: 12500\n",
      "emitting  now. Emission time is: 25000\n",
      "emitting  now. Emission time is: 37500\n",
      "emitting  now. Emission time is: 50000\n",
      "last emit time: 50000\n",
      "<class 'int'>\n",
      "emitting  now. Emission time is: 0\n",
      "emitting  now. Emission time is: 12500\n",
      "emitting  now. Emission time is: 25000\n",
      "emitting  now. Emission time is: 37500\n",
      "emitting  now. Emission time is: 50000\n",
      "last emit time: 50000\n",
      "Scheduling arrivals of Raman photons\n",
      "Scheduling arrivals of Raman photons\n",
      "Photon object created at sender1. sending over channel now. Photon number is: 4\n",
      "in optical channel Qchannel1, sending photon with photon number 0\n",
      "Photon object created at sender2. sending over channel now. Photon number is: 1\n",
      "in optical channel Qchannel2, sending photon with photon number 0\n",
      "Photon object created at sender1. sending over channel now. Photon number is: 2\n",
      "in optical channel Qchannel1, sending photon with photon number 1\n",
      "Photon object created at sender2. sending over channel now. Photon number is: 1\n",
      "in optical channel Qchannel2, sending photon with photon number 0\n",
      "Photon object created at sender1. sending over channel now. Photon number is: 3\n",
      "in optical channel Qchannel1, sending photon with photon number 1\n",
      "Photon object created at sender2. sending over channel now. Photon number is: 1\n",
      "in optical channel Qchannel2, sending photon with photon number 0\n",
      "Photon object created at sender1. sending over channel now. Photon number is: 3\n",
      "in optical channel Qchannel1, sending photon with photon number 0\n",
      "Photon object created at sender2. sending over channel now. Photon number is: 0\n",
      "in optical channel Qchannel2, sending photon with photon number 0\n",
      "Photon object created at sender2. sending over channel now. Photon number is: 2\n",
      "in optical channel Qchannel2, sending photon with photon number 0\n",
      "Photon object created at sender1. sending over channel now. Photon number is: 5\n",
      "in optical channel Qchannel1, sending photon with photon number 1\n",
      "There is another photon scheduled for the same time. Moving on\n",
      "processing interference\n",
      "Hong Ou Mandel detected\n",
      "Qubit photon detected\n",
      "we are within detection window\n",
      "processing detection at 6666667\n",
      "notification at {'time': 6666667} at time: 6666667\n",
      "Qubit photon detected\n",
      "There is another photon scheduled for the same time. Moving on\n",
      "There is another photon scheduled for the same time. Moving on\n",
      "There is another photon scheduled for the same time. Moving on\n",
      "There is another photon scheduled for the same time. Moving on\n",
      "Both photons at same time have been detected. proceeding with measurement.\n",
      "noisy photon was detected.\n",
      "we are within detection window\n",
      "processing detection at 38436227.22581319\n",
      "notification at {'time': 38436227.22581319} at time: 38436227.22581319\n",
      "noisy photon was detected.\n",
      "we are within detection window\n",
      "processing detection at 50439363.09627739\n",
      "notification at {'time': 50439363.09627739} at time: 50439363.09627739\n",
      "noisy photon was detected.\n",
      "we are within detection window\n",
      "processing detection at 57618287.03108041\n",
      "notification at {'time': 57618287.03108041} at time: 57618287.03108041\n",
      "noisy photon was detected.\n",
      "we are within detection window\n",
      "processing detection at 63460164.963013984\n",
      "notification at {'time': 63460164.963013984} at time: 63460164.963013984\n",
      "stopped sim and starting processing at time 2023-07-20 15:06:55.382532\n",
      "idler buffer: 26\n"
     ]
    },
    {
     "name": "stderr",
     "output_type": "stream",
     "text": [
      "c:\\Users\\anshs\\Desktop\\study\\Argonne\\SeQUeNCe\\SeQUeNCe\\src\\entanglement_management\\raman_protocols.py:163: RuntimeWarning: invalid value encountered in true_divide\n",
      "  CAR = matched_correlation/(sum(unmatched_correlations)/len(unmatched_correlations))\n",
      "c:\\Users\\anshs\\Desktop\\study\\Argonne\\SeQUeNCe\\SeQUeNCe\\src\\entanglement_management\\raman_protocols.py:168: UserWarning: Data has no positive values, and therefore cannot be log-scaled.\n",
      "  plt.yscale('log')\n"
     ]
    },
    {
     "name": "stdout",
     "output_type": "stream",
     "text": [
      "CAR: nan\n"
     ]
    },
    {
     "data": {
      "image/png": "[encoded data removed]",
      "text/plain": [
       "<Figure size 432x288 with 1 Axes>"
      ]
     },
     "metadata": {
      "needs_background": "light"
     },
     "output_type": "display_data"
    },
    {
     "name": "stdout",
     "output_type": "stream",
     "text": [
      "simulation ended at 2023-07-20 15:06:57.020519\n"
     ]
    }
   ],
   "source": [
    "try:\n",
    "    now = datetime.now()\n",
    "    print(\"time of start:\", now)\n",
    "    experimental_parameters[\"tl\"] = Timeline(5000e12)\n",
    "    # experimental_parameters[\"mean_photon_num\"] = 0.01\n",
    "    sender1, sender2 = init_experiment_setup(experimental_parameters)\n",
    "    \n",
    "    process1 = Process(sender1.protocol, \"start\", [True])\n",
    "    event1 = Event(0, process1)\n",
    "    experimental_parameters[\"tl\"].schedule(event1)\n",
    "\n",
    "    process2 = Process(sender2.protocol, \"start\", [False])\n",
    "    event2 = Event(0, process2)\n",
    "    experimental_parameters[\"tl\"].schedule(event2)\n",
    "\n",
    "    experimental_parameters[\"tl\"].init()\n",
    "    experimental_parameters[\"tl\"].run()\n",
    "    #     file = open(\"CAR_Data.txt\")\n",
    "    #     CAR_Data.append(list(map(float, file.readlines())))\n",
    "    #     file.close()\n",
    "    #     os.remove(\"CAR_Data.txt\")\n",
    "    # plt.boxplot(list(zip(*CAR_Data)))\n",
    "    # plt.xticks(np.arange(num_samples)+1, np.logspace(min_mpn, max_mpn, num_samples))\n",
    "\n",
    "        \n",
    "\n",
    "    # print(signal_receiver.protocol.coincidence_times)\n",
    "    \n",
    "    # n, bins, patches = plt.hist(signal_receiver.protocol.detection_times, range(-28125, 28126, 6250))\n",
    "    # plt.show() \n",
    "    print(\"simulation ended at\", datetime.now())   \n",
    "except Exception:\n",
    "    print(traceback.format_exc())"
   ]
  },
  {
   "cell_type": "markdown",
   "metadata": {},
   "source": [
    "try:\n",
    "    CAR_Data = []\n",
    "    for j in range(1):\n",
    "        for i in np.linspace(-1.2,-1.8,5):\n",
    "            print(\"I,j:\", i, j)\n",
    "            experimental_parameters[\"tl\"] = Timeline(5000e12)\n",
    "            experimental_parameters[\"collection_probability\"] = 10**i\n",
    "            sender = init_experiment_setup(experimental_parameters)\n",
    "            process = Process(sender.protocol, \"start\", [])\n",
    "            event = Event(0, process)\n",
    "            experimental_parameters[\"tl\"].schedule(event)\n",
    "\n",
    "            experimental_parameters[\"tl\"].init()\n",
    "            experimental_parameters[\"tl\"].run()\n",
    "        file = open(\"CAR_Data.txt\")\n",
    "        CAR_Data.append(list(map(float, file.readlines())))\n",
    "        file.close()\n",
    "   \n",
    "except Exception:\n",
    "    print(traceback.format_exc())"
   ]
  },
  {
   "cell_type": "code",
   "execution_count": 18,
   "metadata": {},
   "outputs": [
    {
     "name": "stdout",
     "output_type": "stream",
     "text": [
      "len of temp_data: 2\n",
      "[[nan, nan], [], []]\n"
     ]
    },
    {
     "name": "stderr",
     "output_type": "stream",
     "text": [
      "C:\\Users\\anshs\\AppData\\Local\\Temp/ipykernel_25696/420326573.py:17: UserWarning: FixedFormatter should only be used together with FixedLocator\n",
      "  ax.set_xticklabels(labels)\n"
     ]
    },
    {
     "data": {
      "text/plain": [
       "{'whiskers': [<matplotlib.lines.Line2D at 0x2e87733f640>,\n",
       "  <matplotlib.lines.Line2D at 0x2e877337e80>],\n",
       " 'caps': [<matplotlib.lines.Line2D at 0x2e87732e9d0>,\n",
       "  <matplotlib.lines.Line2D at 0x2e87734b2b0>],\n",
       " 'boxes': [<matplotlib.lines.Line2D at 0x2e87733fc70>],\n",
       " 'medians': [<matplotlib.lines.Line2D at 0x2e87734b580>],\n",
       " 'fliers': [<matplotlib.lines.Line2D at 0x2e87734bb20>],\n",
       " 'means': [<matplotlib.lines.Line2D at 0x2e87734b850>]}"
      ]
     },
     "execution_count": 18,
     "metadata": {},
     "output_type": "execute_result"
    },
    {
     "data": {
      "image/png": "[encoded data removed]",
      "text/plain": [
       "<Figure size 432x288 with 1 Axes>"
      ]
     },
     "metadata": {
      "needs_background": "light"
     },
     "output_type": "display_data"
    }
   ],
   "source": [
    "CAR_Data = []\n",
    "temp_data = []\n",
    "file = open(\"CAR_Data.txt\")\n",
    "temp_data.append(list(map(float, file.readlines())))\n",
    "file.close()\n",
    "\n",
    "print(\"len of temp_data:\", len(temp_data[0]))\n",
    "\n",
    "for i in range(3):\n",
    "    CAR_Data.append(temp_data[0][i*5:(i+1)*5])\n",
    "\n",
    "print(CAR_Data)\n",
    "\n",
    "fig, ax = plt.subplots()\n",
    "fig.canvas.draw()\n",
    "labels = [str(i)[1:6] for i in np.linspace(-1.2,-1.8,5)]# [0.000562341,0.001,0.001778279,0.00316228,0.00562341,0.01,0.01778279,0.03162278,0.05623413,0.1]]\n",
    "ax.set_xticklabels(labels)\n",
    "ax.set_xlabel(\"Mean Photon numbers\")\n",
    "ax.set_ylabel(\"CAR\")\n",
    "plt.boxplot(list(zip(*CAR_Data)), meanline = True, showmeans=True, medianprops={\"linewidth\":0})"
   ]
  },
  {
   "cell_type": "code",
   "execution_count": 19,
   "metadata": {},
   "outputs": [
    {
     "name": "stdout",
     "output_type": "stream",
     "text": [
      "<class 'numpy.int64'>\n"
     ]
    }
   ],
   "source": [
    "import numpy as np\n",
    "a = np.array([123456788,234787359837,324782648923,4743287894279])\n",
    "# b = np.array([5.,6.,7.,8.])\n",
    "print(type(a[1]))\n",
    "with open(\"temp.txt\", \"wb+\") as fileID:\n",
    "    fileID.write(a.data)\n",
    "# fileID.close()\n",
    "\n",
    "# fileID = open(\"temp.txt\", \"ab+\")\n",
    "# fileID.write(b.data)\n",
    "# fileID.close()\n",
    "\n"
   ]
  },
  {
   "cell_type": "code",
   "execution_count": 20,
   "metadata": {},
   "outputs": [
    {
     "name": "stdout",
     "output_type": "stream",
     "text": [
      "time taken: 0.46305084228515625\n"
     ]
    }
   ],
   "source": [
    "import time\n",
    "a = np.array([])\n",
    "start = time.time()\n",
    "# a = np.random.rand(1000000)\n",
    "for i in range(1000000):\n",
    "    np.random.rand()\n",
    "print(\"time taken:\", time.time()-start)\n"
   ]
  },
  {
   "cell_type": "code",
   "execution_count": 1117,
   "metadata": {},
   "outputs": [
    {
     "name": "stdout",
     "output_type": "stream",
     "text": [
      "max Position: 0.3189550474392806\n",
      "Raman photosns added 12\n"
     ]
    }
   ],
   "source": [
    "\n",
    "\"\"\" adds a photon train of noisy photons scattered from the classical band into the quantum band.\"\"\"\n",
    "\n",
    "h = 6.62607015 * 10**(-34)\n",
    "c = 3 * 10**8\n",
    "clock_power = 0.0003\n",
    "raman_coefficient = 33e-10\n",
    "narrow_band_filter_bandwidth = 0.3\n",
    "attenuation = 0.1\n",
    "classical_channel_attenuation = 7\n",
    "quantum_channel_wavelength = 1536e-9\n",
    "\n",
    "window_size = 6.66e6\n",
    "pulse_width = 1e-5\n",
    "distance = 2\n",
    "\n",
    "raman_power = np.abs(clock_power * raman_coefficient * narrow_band_filter_bandwidth * (np.exp(-attenuation * pulse_width) - np.exp(-classical_channel_attenuation * pulse_width)) / (attenuation - classical_channel_attenuation))\n",
    "raman_energy = raman_power * window_size/1e12\n",
    "mean_num_photons = (raman_energy / (h * c / quantum_channel_wavelength))\n",
    "\n",
    "num_photons_added = sum(np.random.poisson(mean_num_photons, 50000))\n",
    "dAlpha = attenuation - classical_channel_attenuation\n",
    "positions = []\n",
    "# np.exp(distance * classical_channel_attenuation)\n",
    "for i in range(num_photons_added):\n",
    "    positions.append((1/dAlpha) * np.log((np.exp(distance * dAlpha) - 1) * np.random.rand() + 1))\n",
    "\n",
    "\n",
    "print(\"max Position:\", max(positions))\n",
    "print(\"Raman photosns added\", num_photons_added)\n",
    "\n",
    "# photon_generation_times = np.random.rand(num_photons_added) * window_size"
   ]
  },
  {
   "cell_type": "code",
   "execution_count": null,
   "metadata": {},
   "outputs": [
    {
     "ename": "NameError",
     "evalue": "name 'i' is not defined",
     "output_type": "error",
     "traceback": [
      "\u001b[1;31m---------------------------------------------------------------------------\u001b[0m",
      "\u001b[1;31mNameError\u001b[0m                                 Traceback (most recent call last)",
      "\u001b[1;32m~\\AppData\\Local\\Temp/ipykernel_24596/2773791560.py\u001b[0m in \u001b[0;36m<module>\u001b[1;34m\u001b[0m\n\u001b[0;32m      3\u001b[0m \u001b[0mheapq\u001b[0m\u001b[1;33m.\u001b[0m\u001b[0mheapify\u001b[0m\u001b[1;33m(\u001b[0m\u001b[0ma\u001b[0m\u001b[1;33m)\u001b[0m\u001b[1;33m\u001b[0m\u001b[1;33m\u001b[0m\u001b[0m\n\u001b[0;32m      4\u001b[0m \u001b[1;31m# heapq.heappush(a, 3)\u001b[0m\u001b[1;33m\u001b[0m\u001b[1;33m\u001b[0m\u001b[1;33m\u001b[0m\u001b[0m\n\u001b[1;32m----> 5\u001b[1;33m \u001b[1;32mwhile\u001b[0m \u001b[0mi\u001b[0m \u001b[1;32min\u001b[0m \u001b[0ma\u001b[0m\u001b[1;33m:\u001b[0m\u001b[1;33m\u001b[0m\u001b[1;33m\u001b[0m\u001b[0m\n\u001b[0m\u001b[0;32m      6\u001b[0m     \u001b[0mprint\u001b[0m\u001b[1;33m(\u001b[0m\u001b[0mi\u001b[0m\u001b[1;33m)\u001b[0m\u001b[1;33m\u001b[0m\u001b[1;33m\u001b[0m\u001b[0m\n",
      "\u001b[1;31mNameError\u001b[0m: name 'i' is not defined"
     ]
    }
   ],
   "source": [
    "import re\n",
    "a = \"sender_42\"\n",
    "print(re.find(\"_\", a))"
   ]
  },
  {
   "cell_type": "code",
   "execution_count": 27,
   "metadata": {},
   "outputs": [
    {
     "data": {
      "text/plain": [
       "array([[1., 0., 0., 0., 0.],\n",
       "       [1., 0., 0., 0., 0.],\n",
       "       [1., 0., 0., 0., 0.],\n",
       "       [1., 0., 0., 0., 0.],\n",
       "       [1., 0., 0., 0., 0.]])"
      ]
     },
     "execution_count": 27,
     "metadata": {},
     "output_type": "execute_result"
    }
   ],
   "source": [
    "a = np.zeros((5,5))\n",
    "a[:,0] = 1\n",
    "a"
   ]
  },
  {
   "cell_type": "code",
   "execution_count": 1,
   "metadata": {},
   "outputs": [],
   "source": [
    "from src.kernel.quantum_state import DensityState\n",
    "from src.kernel.quantum_manager import QuantumManagerDensityFock\n",
    "from src.kernel.timeline import Timeline\n",
    "from src.components.light_source import SPDCSource\n",
    "import numpy as np\n",
    "\n",
    "qm = QuantumManagerDensityFock()\n",
    "key1 = qm.new([1/np.sqrt(2),1/np.sqrt(2)])\n",
    "key2 = qm.new([1,0])\n",
    "for i in range(10000):\n",
    "    a,b = qm._prepare_state([key2, key1])\n",
    "# a.toarray()\n",
    "# qm._generate_swap_operator(2, 0, 1)\n",
    "# a = SPDCSource(None, Timeline(1e12))\n",
    "# print()\n",
    "# a = a._generate_tmsv_state()\n",
    "# print(a)\n",
    "\n",
    "# DensityState(a, [1,2])"
   ]
  },
  {
   "cell_type": "code",
   "execution_count": 19,
   "metadata": {},
   "outputs": [
    {
     "name": "stdout",
     "output_type": "stream",
     "text": [
      "[[ 1  2  3  4]\n",
      " [ 2  4  6  8]\n",
      " [ 3  6  9 12]\n",
      " [ 4  8 12 16]]\n",
      "((0, 0, 1), (0, 1, 2), (0, 2, 3), (1, 0, 4), (1, 1, 5), (1, 2, 6), (2, 0, 7), (2, 1, 8), (2, 2, 9))\n"
     ]
    }
   ],
   "source": [
    "import scipy.sparse as sp\n",
    "import numpy as np\n",
    "s = [1,2,3,4]\n",
    "s = sp.csc_array(s)\n",
    "s = s.T*s\n",
    "print(s.toarray())\n",
    "state = sp.csr_array([[1,2,3],[4,5,6],[7,8,9]])\n",
    "# print(tuple(map(tuple, state)))\n",
    "# print(tuple(zip(*state.nonzero())))\n",
    "state = np.zeros((100,100))\n",
    "state[:,0] = 1\n",
    "state = sp.array(state)\n",
    "tuple_state = []\n",
    "for x,y in zip(*state.nonzero()):\n",
    "    tuple_state.append((x, y, state[x,y]))\n",
    "print(tuple(tuple_state))\n",
    "# print(state.nonzero())\n",
    "# print(state)"
   ]
  },
  {
   "cell_type": "code",
   "execution_count": 9,
   "metadata": {},
   "outputs": [
    {
     "name": "stdout",
     "output_type": "stream",
     "text": [
      "[[1 0 0 0]\n",
      " [0 0 0 0]\n",
      " [0 0 0 0]\n",
      " [0 0 0 0]]\n",
      "before, temp: [[1 0 0 0]\n",
      " [0 0 0 0]\n",
      " [0 0 0 0]\n",
      " [0 0 0 0]]\n",
      "temp reshaped matrix [[[[1 0]\n",
      "   [0 0]]\n",
      "\n",
      "  [[0 0]\n",
      "   [0 0]]]\n",
      "\n",
      "\n",
      " [[[0 0]\n",
      "   [0 0]]\n",
      "\n",
      "  [[0 0]\n",
      "   [0 0]]]]\n",
      "time required: 1.5610032081604004\n"
     ]
    }
   ],
   "source": [
    "from src.kernel.quantum_utils import density_partial_trace\n",
    "import numpy as np\n",
    "import scipy.sparse as sp\n",
    "a = np.array([[1,0,0,0]])\n",
    "a = a * a.T\n",
    "print(a)\n",
    "density_partial_trace(a, [0], 2)\n",
    "\n",
    "import time\n",
    "state = np.zeros((100,100))\n",
    "state[:,0] = 1\n",
    "state = sp.csr_array(state)\n",
    "start = time.time()\n",
    "\n",
    "for i in range(5000):\n",
    "    # tuple_state = [[]]*len(state.nonzero()[0])\n",
    "    # index = 0\n",
    "    # for x,y in zip(*state.nonzero()):\n",
    "    #     tuple_state[index] = (x, y, state[x,y])\n",
    "    #     index += 1\n",
    "    # tuple_state = state.toarray()\n",
    "    # b = tuple(map(tuple, tuple_state))\n",
    "    b = tuple(map(tuple, state))\n",
    "print(\"time required:\", time.time()-start)"
   ]
  },
  {
   "cell_type": "code",
   "execution_count": 7,
   "metadata": {},
   "outputs": [],
   "source": [
    "file = open(\"results/visibilities.txt\", \"a+\")\n",
    "what_to_write = 345\n",
    "file.write(f\"\\n{what_to_write}\")\n",
    "file.close()"
   ]
  },
  {
   "cell_type": "code",
   "execution_count": 19,
   "metadata": {},
   "outputs": [
    {
     "data": {
      "text/plain": [
       "<matplotlib.legend.Legend at 0x7f36ad3c25f0>"
      ]
     },
     "execution_count": 19,
     "metadata": {},
     "output_type": "execute_result"
    },
    {
     "data": {
      "image/png": "[encoded data removed]",
      "text/plain": [
       "<Figure size 432x288 with 1 Axes>"
      ]
     },
     "metadata": {
      "needs_background": "light"
     },
     "output_type": "display_data"
    }
   ],
   "source": [
    "import numpy as np\n",
    "from matplotlib import pyplot as plt\n",
    "x = list(range(1, 11, 1))\n",
    "y1 = np.array([6,4,2.7,2,1.5,1.2,1,0.9,0.85,0.82])/6.1\n",
    "y3 = np.array([5.6,2.8,1.8,1.2,0.8,0.6,0.59,0.55,0.55,0.53])/6.1\n",
    "y2 = np.array([5.9,3.2,2.2,1.5,1.1,0.8,0.7,0.6,0.59,0.59])/6.1\n",
    "y=[6/6.1]*10\n",
    "plt.plot(x,y1)\n",
    "plt.plot(x,y2)\n",
    "plt.plot(x,y3)\n",
    "plt.plot(x,y)\n",
    "plt.ylim(0,1)\n",
    "plt.legend([\"NRZ\", \"PAM4\", \"QPSK\",\"No power\"])\n"
   ]
  },
  {
   "cell_type": "code",
   "execution_count": 18,
   "metadata": {},
   "outputs": [
    {
     "data": {
      "text/plain": [
       "<matplotlib.legend.Legend at 0x7f36ad3c0100>"
      ]
     },
     "execution_count": 18,
     "metadata": {},
     "output_type": "execute_result"
    },
    {
     "data": {
      "image/png": "[encoded data removed]",
      "text/plain": [
       "<Figure size 432x288 with 1 Axes>"
      ]
     },
     "metadata": {
      "needs_background": "light"
     },
     "output_type": "display_data"
    }
   ],
   "source": [
    "import numpy as np\n",
    "from matplotlib import pyplot as plt\n",
    "x = list(range(1, 11, 1))\n",
    "y1 = np.multiply(np.array([6,4,2.7,2,1.5,1.2,1,0.9,0.85,0.82]), [1,1.2,1.3,1.4,1.5,1.6,1.7,1.8,1.9,2])/6.1\n",
    "y3 = np.multiply(np.array([5.6,2.8,1.8,1.2,0.8,0.6,0.59,0.55,0.55,0.53]), [1,1.2,1.3,1.4,1.5,1.6,1.7,1.8,1.9,2])/6.1\n",
    "y2 = np.multiply(np.array([5.9,3.2,2.2,1.5,1.1,0.8,0.7,0.6,0.59,0.59]), [1,1.2,1.3,1.4,1.5,1.6,1.7,1.8,1.9,2])/6.1\n",
    "y=[6/6.1]*10\n",
    "plt.plot(x,y1)\n",
    "plt.plot(x,y2)\n",
    "plt.plot(x,y3)\n",
    "plt.plot(x,y)\n",
    "plt.ylim(0,1)\n",
    "plt.legend([\"NRZ\", \"PAM4\", \"QPSK\",\"No power\"])"
   ]
  },
  {
   "cell_type": "code",
   "execution_count": 20,
   "metadata": {},
   "outputs": [
    {
     "data": {
      "text/plain": [
       "<matplotlib.legend.Legend at 0x7f36ad2a2f80>"
      ]
     },
     "execution_count": 20,
     "metadata": {},
     "output_type": "execute_result"
    },
    {
     "data": {
      "image/png": "[encoded data removed]",
      "text/plain": [
       "<Figure size 432x288 with 1 Axes>"
      ]
     },
     "metadata": {
      "needs_background": "light"
     },
     "output_type": "display_data"
    }
   ],
   "source": [
    "import numpy as np\n",
    "from matplotlib import pyplot as plt\n",
    "x = list(range(1, 11, 1))\n",
    "y1 = np.multiply(np.array([6,4,2.7,2,1.5,1.2,1,0.9,0.85,0.82]), [1,1.2,1.3,1.4,1.5,1.6,1.7,1.8,1.9,2])/8\n",
    "y3 = np.multiply(np.array([5.6,2.8,1.8,1.2,0.8,0.6,0.59,0.55,0.55,0.53]), [1,1.2,1.3,1.4,1.5,1.6,1.7,1.8,1.9,2])/8\n",
    "y2 = np.multiply(np.array([5.9,3.2,2.2,1.5,1.1,0.8,0.7,0.6,0.59,0.59]), [1,1.2,1.3,1.4,1.5,1.6,1.7,1.8,1.9,2])/8\n",
    "y=[6/6.1]*10\n",
    "plt.plot(x,y1)\n",
    "plt.plot(x,y2)\n",
    "plt.plot(x,y3)\n",
    "plt.plot(x,y)\n",
    "plt.ylim(0,1)\n",
    "plt.legend([\"NRZ\", \"PAM4\", \"QPSK\",\"No power\"])"
   ]
  },
  {
   "cell_type": "code",
   "execution_count": 21,
   "metadata": {},
   "outputs": [
    {
     "data": {
      "text/plain": [
       "<matplotlib.legend.Legend at 0x7f36ad3a66b0>"
      ]
     },
     "execution_count": 21,
     "metadata": {},
     "output_type": "execute_result"
    },
    {
     "data": {
      "image/png": "[encoded data removed]",
      "text/plain": [
       "<Figure size 432x288 with 1 Axes>"
      ]
     },
     "metadata": {
      "needs_background": "light"
     },
     "output_type": "display_data"
    }
   ],
   "source": [
    "import numpy as np\n",
    "from matplotlib import pyplot as plt\n",
    "x = list(range(1, 11, 1))\n",
    "y1 = np.array([6,4,2.7,2,1.5,1.2,1,0.9,0.85,0.82])/8\n",
    "y3 = np.array([5.6,2.8,1.8,1.2,0.8,0.6,0.59,0.55,0.55,0.53])/8\n",
    "y2 = np.array([5.9,3.2,2.2,1.5,1.1,0.8,0.7,0.6,0.59,0.59])/8\n",
    "y=[6/6.1]*10\n",
    "plt.plot(x,y1)\n",
    "plt.plot(x,y2)\n",
    "plt.plot(x,y3)\n",
    "plt.plot(x,y)\n",
    "plt.ylim(0,1)\n",
    "plt.legend([\"NRZ\", \"PAM4\", \"QPSK\",\"No power\"])\n"
   ]
  },
  {
   "cell_type": "code",
   "execution_count": 1,
   "metadata": {},
   "outputs": [
    {
     "data": {
      "text/plain": [
       "array([1, 2, 3, 4, 5, 6, 7, 8, 9, 0])"
      ]
     },
     "execution_count": 1,
     "metadata": {},
     "output_type": "execute_result"
    }
   ],
   "source": [
    "import numpy as np\n",
    "import time\n",
    "a = [1,2,3,4,5]\n",
    "b = [6,7,8,9,0]\n",
    "np.concatenate((a,b))"
   ]
  },
  {
   "cell_type": "code",
   "execution_count": 19,
   "metadata": {},
   "outputs": [
    {
     "name": "stdout",
     "output_type": "stream",
     "text": [
      "10100000 time: 0.09589695930480957\n"
     ]
    }
   ],
   "source": [
    "a = [0]*100000\n",
    "# print(a)\n",
    "b = [1]*100000\n",
    "start = time.time()\n",
    "for i in range(100):\n",
    "    a.extend(b)\n",
    "print(len(a), \"time:\", time.time()-start)"
   ]
  },
  {
   "cell_type": "code",
   "execution_count": 6,
   "metadata": {},
   "outputs": [
    {
     "name": "stdout",
     "output_type": "stream",
     "text": [
      "Last bit is: 10000\n",
      "directions: [False False False False False False False False False False False False False False False False False False False False False False False False False False False False False False False False False False False False False False False False False False False False False False False False False False False False False False False False False False False False False False False False False False False False False False False False False False False False False False False False False False False False False False False False False False False False False False False False False False False False False False False False False False False False False False False False False False False False False False False False False False False False False False False False False False False False False False False False False False False False False False False False False False False False False False False False False False False False False False False False False False False False False False False False False False False False False False False False False False False False False False False False False False False False False False False False False False False False False False False False False False False False False False False False False False False False False False False False False False False False False False False False False False False False False False False False False False False False False False False False False False False False False False False False False False False False False False False False False False False False False False False False False False False False False False False False False False False False False False False False False False False False False False False False False False False False False False False False False False False False False False False False False False False False False False False False False False False False False False False False False False False False False False False False False False False False False False False False False False False False False False False False False False False False False False False False False False False False False False False False False False False False False False False False False False False False False False False False False False False False False False False False False False False False False False False False False False False False False False False False False False False False False False False False False False False False False False False False False False False False False False False False False False False False False False False False False False False False False False False False False False False False False False False False False False False False False False False False False False False False False False False False  True  True  True  True  True  True  True  True  True  True  True  True  True  True  True  True  True  True  True  True  True  True  True  True  True  True  True  True  True  True  True  True  True  True  True  True  True  True  True  True  True  True  True  True  True  True  True  True  True  True  True  True  True  True  True  True  True  True  True  True  True  True  True  True  True  True  True  True  True  True  True  True  True  True  True  True  True  True  True  True  True  True  True  True  True  True  True  True  True  True  True  True  True  True  True  True  True  True  True  True  True  True  True  True  True  True  True  True  True  True  True  True  True  True  True  True  True  True  True  True  True  True  True  True  True  True  True  True  True  True  True  True  True  True  True  True  True  True  True  True  True  True  True  True  True  True  True  True  True  True  True  True  True  True  True  True  True  True  True  True  True  True  True  True  True  True  True  True  True  True  True  True  True  True  True  True  True  True  True  True  True  True  True  True  True  True  True  True  True  True  True  True  True  True  True  True  True  True  True  True  True  True  True  True  True  True  True  True  True  True  True  True  True  True  True  True  True  True  True  True  True  True  True  True  True  True  True  True  True  True  True  True  True  True  True  True  True  True  True  True  True  True  True  True  True  True  True  True  True  True  True  True  True  True  True  True  True  True  True  True  True  True  True  True  True  True  True  True  True  True  True  True  True  True  True  True  True  True  True  True  True  True  True  True  True  True  True  True  True  True  True  True  True  True  True  True  True  True  True  True  True  True  True  True  True  True  True  True  True  True  True  True  True  True  True  True  True  True  True  True  True  True  True  True  True  True  True  True  True  True  True  True  True  True  True  True  True  True  True  True  True  True  True  True  True  True  True  True  True  True  True  True  True  True  True  True  True  True  True  True  True  True  True  True  True  True  True  True  True  True  True  True  True  True  True  True  True  True  True  True  True  True  True  True  True  True  True  True  True  True  True  True  True  True  True  True  True  True  True  True  True  True  True  True  True  True  True  True  True  True  True  True  True  True  True  True  True  True  True  True  True  True  True  True  True  True  True  True  True  True  True  True  True  True  True  True  True  True  True  True  True  True  True  True  True  True  True  True  True  True  True  True  True  True  True  True  True  True  True  True  True  True  True  True False False False False False False False False False False False False False False False False False False False False False False False False False False False False False False False False False False False False False False False False False False False False False False False False False False False False False False False False False False False False False False False False False False False False False False False False False False False False False False False False False False False False False False False False False False False False False False False False False False False False False False False False False False False False False False False False False False False False False False False False False False False False False False False False False False False False False False False False False False False False False False False False False False False False False False False False False False False False False False False False False False False False False False False False False False False False False False False False False False False False False False False False False False False False False False False False False False False False False False False False False False False False False False False False False False False False False False False False False False False False False False False False False False False False False False False False False False False False False False False False False False False False False False False False False False False False False False False False False False False False False False False False False False False False False False False False False False False False False False False False False False False False False False False False False False False False False False False False False False False False False False False False False False False False False False False False False False False False False False False False False False False False False False False False False False False False False False False False False False False False False False False False False False False False False False False False False False False False False False False False False False False False False False False False False False False False False False False False False False False False False False False False False False False False False False False False False False False False False False False False False False False False False False False False False False False False False False False False False False False False False False False False False False False False False False False False False False False False False False False False False False False False False False False False False False False False False False False False False False False False False False False False False False False False False False False False False False False False False False False False False False False False False False False False False False False False False False False False False False False False False False False False False False False False False False False False False False False False False False False False False False False False False False False False False False False False False False False False False False False False False False False False False False False False False False False False False False False False False False False False False False False False False False False False False False False False False False False False False False False False False False False False False False False False False False False False False False False False False False False False False False False False False False False False False False False False False False False False False False False False False False False False False False False False False False False False False False False False False False False False False False False False False False False False False False False False False False False False False False False False False False False False False False False False False False False False False False False False False False False False False False False False False False False False False False False False False False False False False False False False False False False False False False False False False False False False False False False False False False False False False False False False False False False False False False False False False False False False False False False False False False False False False False False False False False False False False False False False False False False False False False False False False False False False False False False False False False False False False False False False False False False False False False False False False False False False False False False False False False False False False False False False False False False False False False False False False False False False False False False False False False False False False False False False False False False False False False False False False False False False False False False False False False False False False False False False False False False False False False False False False False False False False False False False False False False False False False False False False False False False False False False False False False False False False False False False False False False False False False False False False False False False False False False False False False False False False False False False False False False False False False False False False False False False False False False False False False False False False False False False False False False False False False False False False False False False False False False False False False False False False False False False False False False False False False False False False False False False False False False False False False False False False False False False False False False False False False False False False False False False False False False False False False False False False False False False False False False False False False False False False False False False False False False False False False False False False False False False False False False False False False False False False False False False False False False False False False False False False False False False False False False False False False False False False False False False False False False False False False False False False False False False False False False False False False False False False False False False False False False False False False False False False False False False False False False False False False False False False False False False False False False False False False False False False False False False False False False False False False False False False False False False False False False False False False False False False False False False False False False False False False False False False False False False False False False False False False False False False False False False False False False False False False False False False False False False False False False False False False False False False False False False False False False False False False False False False False False False False False False False False False False False False False False False False False False False False False False False False False False False False False False False False False False False False False False False False False False False False False False False False False False False False False False False False False False False False False False False False False False False False False False False False False False False False False False False False False False False False False False False False False False False False False False False False False False False False False False False False False False False False False False False False False False False False False False False False False False False False False False False False False False False False False False False False False False False False False False False False False False False False False False False False False False False False False False False False False False False False False False False False False False False False False False False False False False False False False False False False False False False False False False False False False False False False False False False False False False False False False False False False False False False False False False False False False False False False False False False False False False False False False False False False False False False False False False False False False False False False False False False False False False False False False False False False False False False False False False False False False False False False False False False False False False False False False False False False False False False False False False False False False False False False False False False False False False False False False False False False False False False False False False False False False False False False False False False False False False False False False False False False False False False False False False False False False False False False False False False False False False False False False False False False False False False False False False False False False False False False False False False False False False False False False False False False False False False False False False False False False False False False False False False False False False False False False False False False False False False False False False False False False False False False False False False False False False False False False False False False False False False False False False False False False False False False False False False False False False False False False False False False False False False False False False False False False False False False False False False False False False False False False False False False False False False False False False False False False False False False False False False False False False False False False False False False False False False False False False False False False False False False False False False False False False False False False False False False False False False False False False False False False False False False False False False False False False False False False False False False False False False False False False False False False False False False False False False False False False False False False False False False False False False False False False False False False False False False False False False False False False False False False False False False False False False False False False False False False False False False False False False False False False False False False False False False False False False False False False False False False False False False False False False False False False False False False False False False False False False False False False False False False False False False False False False False False False False False False False False False False False False False False False False False False False False False False False False False False False False False False False False False False False False False False False False False False False False False False False False False False False False False False False False False False False False False False False False False False False False False False False False False False False False False False False False False False False False False False False False False False False False False False False False False False False False False False False False False False False False False False False False False False False False False False False False False False False False False False False False False False False False False False False False False False False False False False False False False False False False False False False False False False False False False False False False False False False False False False False False False False False False False False False False False False False False False False False False False False False False False False False False False False False False False False False False False False False False False False False False False False False False False False False False False False False False False False False False False False False False False False False False False False False False False False False False False False False False False False False False False False False False False False False False False False False False False False False False False False False False False False False False False False False False False False False False False False False False False False False False False False False False False False False False False False False False False False False False False False False False False False False False False False False False False False False False False False False False False False False False False False False False False False False False False False False False False False False False False False False False False False False False False False False False False False False False False False False False False False False False False False False False False False False False False False False False False False False False False False False False False False False False False False False False False False False False False False False False False False False False False False False False False False False False False False False False False False False False False False False False False False False False False False False False False False False False False False False False False False False False False False False False False False False False False False False False False False False False False False False False False False False False False False False False False False False False False False False False False False False False False False False False False False False False False False False False False False False False False False False False False False False False False False False False False False False False False False False False False False False False False False False False False False False False False False False False False False False False False False False False False False False False False False False False False False False False False False False False False False False False False False False False False False False False False False False False False False False False False False False False False False False False False False False False False False False False False False False False False False False False False False False False False False False False False False False False False False False False False False False False False False False False False False False False False False False False False False False False False False False False False False False False False False False False False False False False False False False False False False False False False False False False False False False False False False False False False False False False False False False False False False False False False False False False False False False False False False False False False False False False False False False False False False False False False False False False False False False False False False False False False False False False False False False False False False False False False False False False False False False False False False False False False False False False False False False False False False False False False False False False False False False False False False False False False False False False False False False False False False False False False False False False False False False False False False False False False False False False False False False False False False False False False False False False False False False False False False False False False False False False False False False False False False False False False False False False False False False False False False False False False False False False False False False False False False False False False False False False False False False False False False False False False False False False False False False False False False False False False False False False False False False False False False False False False False False False False False False False False False False False False False False False False False False False False False False False False False False False False False False False False False False False False False False False False False False False False False False False False False False False False False False False False False False False False False False False False False False False False False False False False False False False False False False False False False False False False False False False False False False False False False False False False False False False False False False False False False False False False False False False False False False False False False False False False False False False False False False False False False False False False False False False False False False False False False False False False False False False False False False False False False False False False False False False False False False False False False False False False False False False False False False False False False False False False False False False False False False False False False False False False False False False False False False False False False False False False False False False False False False False False False False False False False False False False False False False False False False False False False False False False False False False False False False False False False False False False False False False False False False False False False False False False False False False False False False False False False False False False False False False False False False False False False False False False False False False False False False False False False False False False False False False False False False False False False False False False False False False False False False False False False False False False False False False False False False False False False False False False False False False False False False False False False False False False False False False False False False False False False False False False False False False False False False False False False False False False False False False False False False False False False False False False False False False False False False False False False False False False False False False False False False False False False False False False False False False False False False False False False False False False False False False False False False False False False False False False False False False False False False False False False False False False False False False False False False False False False False False False False False False False False False False False False False False False False False False False False False False False False False False False False False False False False False False False False False False False False False False False False False False False False False False False False False False False False False False False False False False False False False False False False False False False False False False False False False False False False False False False False False False False False False False False False False False False False False False False False False False False False False False False False False False False False False False False False False False False False False False False False False False False False False False False False False False False False False False False False False False False False False False False False False False False False False False False False False False False False False False False False False False False False False False False False False False False False False False False False False False False False False False False False False False False False False False False False False False False False False False False False False False False False False False False False False False False False False False False False False False False False False False False False False False False False False False False False False False False False False False False False False False False False False False False False False False False False False False False False False False False False False False False False False False False False False False False False False False False False False False False False False False False False False False False False False False False False False False False False False False False False False False False False False False False False False False False False False False False False False False False False False False False False False False False False False False False False False False False False False False False False False False False False False False False False False False False False False False False False False False False False False False False False False False False False False False False False False False False False False False False False False False False False False False False False False False False False False False False False False False False False False False False False False False False False False False False False False False False False False False False False False False False False False False False False False False False False False False False False False False False False False False False False False False False False False False False False False False False False False False False False False False False False False False False False False False False False False False False False False False False False False False False False False False False False False False False False False False False False False False False False False False False False False False False False False False False False False False False False False False False False False False False False False False False False False False False False False False False False False False False False False False False False False False False False False False False False False False False False False False False False False False False False False False False False False False False False False False False False False False False False False False False False False False False False False False False False False False False False False False False False False False False False False False False False False False False False False False False False False False False False False False False False False False False False False False False False False False False False False False False False False False False False False False False False False False False False False False False False False False False False False False False False False False False False False False False False False False False False False False False False False False False False False False False False False False False False False False False False False False False False False False False False False False False False False False False False False False False False False False False False False False False False False False False False False False False False False False False False False False False False False False False False False False False False False False False False False False False False False False False False False False False False False False False False False False False False False False False False False False False False False False False False False False False False False False False False False False False False False False False False False False False False False False False False False False False False False False False False False False False False False False False False False False False False False False False False False False False False False False False False False False False False False False False False False False False False False False False False False False False False False False False False False False False False False False False False False False False False False False False False False False False False False False False False False False False False False False False False False False False False False False False False False False False False False False False False False False False False False False False False False False False False False False False False False False False False False False False False False False False False False False False False False False False False False False False False False False False False False False False False False False False False False False False False False False False False False False False False False False False False False False False False False False False False False False False False False False False False False False False False False False False False False False False False False False False False False False False False False False False False False False False False False False False False False False False False False False False False False False False False False False False False False False False False False False False False False False False False False False False False False False False False False False False False False False False False False False False False False False False False False False False False False False False False False False False False False False False False False False False False False False False False False False False False False False False False False False False False False False False False False False False False False False False False False False False False False False False False False False False False False False False False False False False False False False False False False False False False False False False False False False False False False False False False False False False False False False False False False False False False False False False False False False False False False False False False False False False False False False False False False False False False False False False False False False False False False False False False False False False False False False False False False False False False False False False False False False False False False False False False False False False False False False False False False False False False False False False False False False False False False False False False False False False False False False False False False False False False False False False False False False False False False False False False False False False False False False False False False False False False False False False False False False False False False False False False False False False False False False False False False False False False False False False False False False False False False False False False False False False False False False False False False False False False False False False False False False False False False False False False False False False False False False False False False False False False False False False False False False False False False False False False False False False False False False False False False False False False False False False False False False False False False False False False False False False False False False False False False False False False False False False False False False False False False False False False False False False False False False False False False False False False False False False False False False False False False False False False False False False False False False False False False False False False False False False False False False False False False False False False False False False False False False False False False False False False False False False False False False False False False False False False False False False False False False False False False False False False False False False False False False False False False False False False False False False False False False False False False False False False False False False False False False False False False False False False False False False False False False False False False False False False False False False False False False False False False False False False False False False False False False False False False False False False False False False False False False False False False False False False False False False False False False False False False False False False False False False False False False False False False False False False False False False False False False False False False False False False False False False False False False False False False False False False False False False False False False False False False False False False False False False False False False False False False False False False False False False False False False False False False False False False False False False False False False False False False False False False False False False False False False False False False False False False False False False False False False False False False False False False False False False False False False False False False False False False False False False False False False False False False False False False False False False False False False False False False False False False False False False False False False False False False False False False False False False False False False False False False False False False False False False False False False False False False False False False False False False False False False False False False False False False False False False False False False False False False False False False False False False False False False False False False False False False False False False False False False False False False False False False False False False False False False False False False False False False False False False False False False False False False False False False False False False False False False False False False False False False False False False False False False False False False False False False False False False False False False False False False False False False False False False False False False False False False False False False False False False False False False False False False False False False False False False False False False False False False False False False False False]\n",
      "len of bits: 10000\n",
      "type of classical powers: <class 'cupy.ndarray'>\n"
     ]
    },
    {
     "ename": "CompileException",
     "evalue": "/tmp/tmpv2p89qt_/86300b24da45d311ae1bf5d17c1b55dc29cb841e.cubin.cu(29): catastrophic error: cannot open source file \"curand_kernel.h\"\n\n1 catastrophic error detected in the compilation of \"/tmp/tmpv2p89qt_/86300b24da45d311ae1bf5d17c1b55dc29cb841e.cubin.cu\".\nCompilation terminated.\n",
     "output_type": "error",
     "traceback": [
      "\u001b[0;31m---------------------------------------------------------------------------\u001b[0m",
      "\u001b[0;31mNVRTCError\u001b[0m                                Traceback (most recent call last)",
      "\u001b[0;32m~/.local/lib/python3.10/site-packages/cupy/cuda/compiler.py\u001b[0m in \u001b[0;36mcompile\u001b[0;34m(self, options, log_stream)\u001b[0m\n\u001b[1;32m    688\u001b[0m                     \u001b[0mnvrtc\u001b[0m\u001b[0;34m.\u001b[0m\u001b[0maddNameExpression\u001b[0m\u001b[0;34m(\u001b[0m\u001b[0mself\u001b[0m\u001b[0;34m.\u001b[0m\u001b[0mptr\u001b[0m\u001b[0;34m,\u001b[0m \u001b[0mker\u001b[0m\u001b[0;34m)\u001b[0m\u001b[0;34m\u001b[0m\u001b[0;34m\u001b[0m\u001b[0m\n\u001b[0;32m--> 689\u001b[0;31m             \u001b[0mnvrtc\u001b[0m\u001b[0;34m.\u001b[0m\u001b[0mcompileProgram\u001b[0m\u001b[0;34m(\u001b[0m\u001b[0mself\u001b[0m\u001b[0;34m.\u001b[0m\u001b[0mptr\u001b[0m\u001b[0;34m,\u001b[0m \u001b[0moptions\u001b[0m\u001b[0;34m)\u001b[0m\u001b[0;34m\u001b[0m\u001b[0;34m\u001b[0m\u001b[0m\n\u001b[0m\u001b[1;32m    690\u001b[0m             \u001b[0mmapping\u001b[0m \u001b[0;34m=\u001b[0m \u001b[0;32mNone\u001b[0m\u001b[0;34m\u001b[0m\u001b[0;34m\u001b[0m\u001b[0m\n",
      "\u001b[0;32mcupy_backends/cuda/libs/nvrtc.pyx\u001b[0m in \u001b[0;36mcupy_backends.cuda.libs.nvrtc.compileProgram\u001b[0;34m()\u001b[0m\n",
      "\u001b[0;32mcupy_backends/cuda/libs/nvrtc.pyx\u001b[0m in \u001b[0;36mcupy_backends.cuda.libs.nvrtc.compileProgram\u001b[0;34m()\u001b[0m\n",
      "\u001b[0;32mcupy_backends/cuda/libs/nvrtc.pyx\u001b[0m in \u001b[0;36mcupy_backends.cuda.libs.nvrtc.check_status\u001b[0;34m()\u001b[0m\n",
      "\u001b[0;31mNVRTCError\u001b[0m: NVRTC_ERROR_COMPILATION (6)",
      "\nDuring handling of the above exception, another exception occurred:\n",
      "\u001b[0;31mCompileException\u001b[0m                          Traceback (most recent call last)",
      "\u001b[0;32m/tmp/ipykernel_2825683/2618098435.py\u001b[0m in \u001b[0;36m<module>\u001b[0;34m\u001b[0m\n\u001b[1;32m     41\u001b[0m \u001b[0mreceiver1\u001b[0m \u001b[0;34m=\u001b[0m \u001b[0;34m\"receiver1\"\u001b[0m\u001b[0;34m\u001b[0m\u001b[0;34m\u001b[0m\u001b[0m\n\u001b[1;32m     42\u001b[0m \u001b[0mcc\u001b[0m\u001b[0;34m.\u001b[0m\u001b[0mset_ends\u001b[0m\u001b[0;34m(\u001b[0m\u001b[0msender0\u001b[0m\u001b[0;34m,\u001b[0m \u001b[0mreceiver1\u001b[0m\u001b[0;34m)\u001b[0m\u001b[0;34m\u001b[0m\u001b[0;34m\u001b[0m\u001b[0m\n\u001b[0;32m---> 43\u001b[0;31m \u001b[0mcc\u001b[0m\u001b[0;34m.\u001b[0m\u001b[0mstart_classical_communication\u001b[0m\u001b[0;34m(\u001b[0m\u001b[0;34m)\u001b[0m\u001b[0;34m\u001b[0m\u001b[0;34m\u001b[0m\u001b[0m\n\u001b[0m",
      "\u001b[0;32m~/Visibility-SeQUeNCe-research/src/components/optical_channel.py\u001b[0m in \u001b[0;36mstart_classical_communication\u001b[0;34m(self)\u001b[0m\n\u001b[1;32m    556\u001b[0m         \u001b[0mself\u001b[0m\u001b[0;34m.\u001b[0m\u001b[0mpcap\u001b[0m \u001b[0;34m=\u001b[0m \u001b[0mPcapNgReader\u001b[0m\u001b[0;34m(\u001b[0m\u001b[0;34m\"src/classical_communication/pcap_files/SeQUeNCe-%s-0.pcap\"\u001b[0m \u001b[0;34m%\u001b[0m \u001b[0;34m(\u001b[0m\u001b[0mself\u001b[0m\u001b[0;34m.\u001b[0m\u001b[0msender_index\u001b[0m\u001b[0;34m)\u001b[0m\u001b[0;34m)\u001b[0m\u001b[0;34m\u001b[0m\u001b[0;34m\u001b[0m\u001b[0m\n\u001b[1;32m    557\u001b[0m         \u001b[0mself\u001b[0m\u001b[0;34m.\u001b[0m\u001b[0mclassical_communication_running\u001b[0m \u001b[0;34m=\u001b[0m \u001b[0;32mTrue\u001b[0m\u001b[0;34m\u001b[0m\u001b[0;34m\u001b[0m\u001b[0m\n\u001b[0;32m--> 558\u001b[0;31m         \u001b[0mself\u001b[0m\u001b[0;34m.\u001b[0m\u001b[0mtransmit_classical_message\u001b[0m\u001b[0;34m(\u001b[0m\u001b[0;34m)\u001b[0m\u001b[0;34m\u001b[0m\u001b[0;34m\u001b[0m\u001b[0m\n\u001b[0m\u001b[1;32m    559\u001b[0m \u001b[0;34m\u001b[0m\u001b[0m\n\u001b[1;32m    560\u001b[0m \u001b[0;34m\u001b[0m\u001b[0m\n",
      "\u001b[0;32m~/Visibility-SeQUeNCe-research/src/components/optical_channel.py\u001b[0m in \u001b[0;36mtransmit_classical_message\u001b[0;34m(self)\u001b[0m\n\u001b[1;32m    608\u001b[0m         \u001b[0;31m# print(\"transmitting classical message\")\u001b[0m\u001b[0;34m\u001b[0m\u001b[0;34m\u001b[0m\u001b[0m\n\u001b[1;32m    609\u001b[0m \u001b[0;34m\u001b[0m\u001b[0m\n\u001b[0;32m--> 610\u001b[0;31m         \u001b[0mRaman_Kernel_call\u001b[0m\u001b[0;34m(\u001b[0m\u001b[0;34m(\u001b[0m\u001b[0mlimit\u001b[0m\u001b[0;34m//\u001b[0m\u001b[0;36m128\u001b[0m\u001b[0;34m+\u001b[0m\u001b[0;36m1\u001b[0m\u001b[0;34m,\u001b[0m\u001b[0;34m)\u001b[0m\u001b[0;34m,\u001b[0m \u001b[0;34m(\u001b[0m\u001b[0;36m128\u001b[0m\u001b[0;34m,\u001b[0m\u001b[0;34m)\u001b[0m\u001b[0;34m,\u001b[0m \u001b[0mparams\u001b[0m\u001b[0;34m)\u001b[0m\u001b[0;34m\u001b[0m\u001b[0;34m\u001b[0m\u001b[0m\n\u001b[0m\u001b[1;32m    611\u001b[0m \u001b[0;34m\u001b[0m\u001b[0m\n\u001b[1;32m    612\u001b[0m         \u001b[0mprint\u001b[0m\u001b[0;34m(\u001b[0m\u001b[0;34m\"Transmitted classical message\"\u001b[0m\u001b[0;34m)\u001b[0m\u001b[0;34m\u001b[0m\u001b[0;34m\u001b[0m\u001b[0m\n",
      "\u001b[0;32mcupy/_core/raw.pyx\u001b[0m in \u001b[0;36mcupy._core.raw.RawKernel.__call__\u001b[0;34m()\u001b[0m\n",
      "\u001b[0;32mcupy/_core/raw.pyx\u001b[0m in \u001b[0;36mcupy._core.raw.RawKernel.kernel.__get__\u001b[0;34m()\u001b[0m\n",
      "\u001b[0;32mcupy/_core/raw.pyx\u001b[0m in \u001b[0;36mcupy._core.raw.RawKernel._kernel\u001b[0;34m()\u001b[0m\n",
      "\u001b[0;32mcupy/_util.pyx\u001b[0m in \u001b[0;36mcupy._util.memoize.decorator.ret\u001b[0;34m()\u001b[0m\n",
      "\u001b[0;32mcupy/_core/raw.pyx\u001b[0m in \u001b[0;36mcupy._core.raw._get_raw_module\u001b[0;34m()\u001b[0m\n",
      "\u001b[0;32mcupy/_core/core.pyx\u001b[0m in \u001b[0;36mcupy._core.core.compile_with_cache\u001b[0;34m()\u001b[0m\n",
      "\u001b[0;32mcupy/_core/core.pyx\u001b[0m in \u001b[0;36mcupy._core.core.compile_with_cache\u001b[0;34m()\u001b[0m\n",
      "\u001b[0;32m~/.local/lib/python3.10/site-packages/cupy/cuda/compiler.py\u001b[0m in \u001b[0;36m_compile_module_with_cache\u001b[0;34m(source, options, arch, cache_dir, extra_source, backend, enable_cooperative_groups, name_expressions, log_stream, jitify)\u001b[0m\n\u001b[1;32m    494\u001b[0m             name_expressions, log_stream, cache_in_memory)\n\u001b[1;32m    495\u001b[0m     \u001b[0;32melse\u001b[0m\u001b[0;34m:\u001b[0m\u001b[0;34m\u001b[0m\u001b[0;34m\u001b[0m\u001b[0m\n\u001b[0;32m--> 496\u001b[0;31m         return _compile_with_cache_cuda(\n\u001b[0m\u001b[1;32m    497\u001b[0m             \u001b[0msource\u001b[0m\u001b[0;34m,\u001b[0m \u001b[0moptions\u001b[0m\u001b[0;34m,\u001b[0m \u001b[0march\u001b[0m\u001b[0;34m,\u001b[0m \u001b[0mcache_dir\u001b[0m\u001b[0;34m,\u001b[0m \u001b[0mextra_source\u001b[0m\u001b[0;34m,\u001b[0m \u001b[0mbackend\u001b[0m\u001b[0;34m,\u001b[0m\u001b[0;34m\u001b[0m\u001b[0;34m\u001b[0m\u001b[0m\n\u001b[1;32m    498\u001b[0m             \u001b[0menable_cooperative_groups\u001b[0m\u001b[0;34m,\u001b[0m \u001b[0mname_expressions\u001b[0m\u001b[0;34m,\u001b[0m \u001b[0mlog_stream\u001b[0m\u001b[0;34m,\u001b[0m\u001b[0;34m\u001b[0m\u001b[0;34m\u001b[0m\u001b[0m\n",
      "\u001b[0;32m~/.local/lib/python3.10/site-packages/cupy/cuda/compiler.py\u001b[0m in \u001b[0;36m_compile_with_cache_cuda\u001b[0;34m(source, options, arch, cache_dir, extra_source, backend, enable_cooperative_groups, name_expressions, log_stream, cache_in_memory, jitify)\u001b[0m\n\u001b[1;32m    572\u001b[0m     \u001b[0;32mif\u001b[0m \u001b[0mbackend\u001b[0m \u001b[0;34m==\u001b[0m \u001b[0;34m'nvrtc'\u001b[0m\u001b[0;34m:\u001b[0m\u001b[0;34m\u001b[0m\u001b[0;34m\u001b[0m\u001b[0m\n\u001b[1;32m    573\u001b[0m         \u001b[0mcu_name\u001b[0m \u001b[0;34m=\u001b[0m \u001b[0;34m''\u001b[0m \u001b[0;32mif\u001b[0m \u001b[0mcache_in_memory\u001b[0m \u001b[0;32melse\u001b[0m \u001b[0mname\u001b[0m \u001b[0;34m+\u001b[0m \u001b[0;34m'.cu'\u001b[0m\u001b[0;34m\u001b[0m\u001b[0;34m\u001b[0m\u001b[0m\n\u001b[0;32m--> 574\u001b[0;31m         ptx, mapping = compile_using_nvrtc(\n\u001b[0m\u001b[1;32m    575\u001b[0m             \u001b[0msource\u001b[0m\u001b[0;34m,\u001b[0m \u001b[0moptions\u001b[0m\u001b[0;34m,\u001b[0m \u001b[0march\u001b[0m\u001b[0;34m,\u001b[0m \u001b[0mcu_name\u001b[0m\u001b[0;34m,\u001b[0m \u001b[0mname_expressions\u001b[0m\u001b[0;34m,\u001b[0m\u001b[0;34m\u001b[0m\u001b[0;34m\u001b[0m\u001b[0m\n\u001b[1;32m    576\u001b[0m             log_stream, cache_in_memory, jitify)\n",
      "\u001b[0;32m~/.local/lib/python3.10/site-packages/cupy/cuda/compiler.py\u001b[0m in \u001b[0;36mcompile_using_nvrtc\u001b[0;34m(source, options, arch, filename, name_expressions, log_stream, cache_in_memory, jitify)\u001b[0m\n\u001b[1;32m    320\u001b[0m                 \u001b[0mcu_file\u001b[0m\u001b[0;34m.\u001b[0m\u001b[0mwrite\u001b[0m\u001b[0;34m(\u001b[0m\u001b[0msource\u001b[0m\u001b[0;34m)\u001b[0m\u001b[0;34m\u001b[0m\u001b[0;34m\u001b[0m\u001b[0m\n\u001b[1;32m    321\u001b[0m \u001b[0;34m\u001b[0m\u001b[0m\n\u001b[0;32m--> 322\u001b[0;31m             return _compile(source, options, cu_path,\n\u001b[0m\u001b[1;32m    323\u001b[0m                             name_expressions, log_stream, jitify)\n\u001b[1;32m    324\u001b[0m     \u001b[0;32melse\u001b[0m\u001b[0;34m:\u001b[0m\u001b[0;34m\u001b[0m\u001b[0;34m\u001b[0m\u001b[0m\n",
      "\u001b[0;32m~/.local/lib/python3.10/site-packages/cupy/cuda/compiler.py\u001b[0m in \u001b[0;36m_compile\u001b[0;34m(source, options, cu_path, name_expressions, log_stream, jitify)\u001b[0m\n\u001b[1;32m    304\u001b[0m                              name_expressions=name_expressions, method=method)\n\u001b[1;32m    305\u001b[0m         \u001b[0;32mtry\u001b[0m\u001b[0;34m:\u001b[0m\u001b[0;34m\u001b[0m\u001b[0;34m\u001b[0m\u001b[0m\n\u001b[0;32m--> 306\u001b[0;31m             \u001b[0mcompiled_obj\u001b[0m\u001b[0;34m,\u001b[0m \u001b[0mmapping\u001b[0m \u001b[0;34m=\u001b[0m \u001b[0mprog\u001b[0m\u001b[0;34m.\u001b[0m\u001b[0mcompile\u001b[0m\u001b[0;34m(\u001b[0m\u001b[0moptions\u001b[0m\u001b[0;34m,\u001b[0m \u001b[0mlog_stream\u001b[0m\u001b[0;34m)\u001b[0m\u001b[0;34m\u001b[0m\u001b[0;34m\u001b[0m\u001b[0m\n\u001b[0m\u001b[1;32m    307\u001b[0m         \u001b[0;32mexcept\u001b[0m \u001b[0mCompileException\u001b[0m \u001b[0;32mas\u001b[0m \u001b[0me\u001b[0m\u001b[0;34m:\u001b[0m\u001b[0;34m\u001b[0m\u001b[0;34m\u001b[0m\u001b[0m\n\u001b[1;32m    308\u001b[0m             dump = _get_bool_env_variable(\n",
      "\u001b[0;32m~/.local/lib/python3.10/site-packages/cupy/cuda/compiler.py\u001b[0m in \u001b[0;36mcompile\u001b[0;34m(self, options, log_stream)\u001b[0m\n\u001b[1;32m    706\u001b[0m         \u001b[0;32mexcept\u001b[0m \u001b[0mnvrtc\u001b[0m\u001b[0;34m.\u001b[0m\u001b[0mNVRTCError\u001b[0m\u001b[0;34m:\u001b[0m\u001b[0;34m\u001b[0m\u001b[0;34m\u001b[0m\u001b[0m\n\u001b[1;32m    707\u001b[0m             \u001b[0mlog\u001b[0m \u001b[0;34m=\u001b[0m \u001b[0mnvrtc\u001b[0m\u001b[0;34m.\u001b[0m\u001b[0mgetProgramLog\u001b[0m\u001b[0;34m(\u001b[0m\u001b[0mself\u001b[0m\u001b[0;34m.\u001b[0m\u001b[0mptr\u001b[0m\u001b[0;34m)\u001b[0m\u001b[0;34m\u001b[0m\u001b[0;34m\u001b[0m\u001b[0m\n\u001b[0;32m--> 708\u001b[0;31m             raise CompileException(log, self.src, self.name, options,\n\u001b[0m\u001b[1;32m    709\u001b[0m                                    'nvrtc' if not runtime.is_hip else 'hiprtc')\n\u001b[1;32m    710\u001b[0m \u001b[0;34m\u001b[0m\u001b[0m\n",
      "\u001b[0;31mCompileException\u001b[0m: /tmp/tmpv2p89qt_/86300b24da45d311ae1bf5d17c1b55dc29cb841e.cubin.cu(29): catastrophic error: cannot open source file \"curand_kernel.h\"\n\n1 catastrophic error detected in the compilation of \"/tmp/tmpv2p89qt_/86300b24da45d311ae1bf5d17c1b55dc29cb841e.cubin.cu\".\nCompilation terminated.\n"
     ]
    }
   ],
   "source": [
    "from src.components.optical_channel import ClassicalChannel\n",
    "from src.kernel.timeline import Timeline\n",
    "from src.topology.node import Node\n",
    "\n",
    "params = {\n",
    "    # Detector_parameters\n",
    "    \"collection_probability\" : 0.5,\n",
    "    # \"dark_count_rate\" : BSM_DET1_DARK, #100,\n",
    "    # \"dead_time\" : 25000,\n",
    "    # \"time_resolution\" : 50,\n",
    "\n",
    "    # Optical channel\n",
    "    \"quantum_channel_attenuation\" : 0.44,\n",
    "    \"classical_channel_attenuation\" : 0.55,\n",
    "    \"distance\" : 20, # Distance in km\n",
    "    \"raman_coefficient\" : 10.5e-10, \n",
    "    # \"max_rate\" : 1e12,\n",
    "    \"quantum_channel_wavelength\" : 1536e-9,\n",
    "    \"classical_channel_wavelength\" : 1310e-9,\n",
    "    \"classical_communication_rate\" : 1e10/1e12, # Classical communication (bit) rate in Picoseconds, i.e. B/ps. 1e7/1e12 is 10Mb/s in ps = 1e-5 b/ps\n",
    "\n",
    "    \"quantum_channel_index\": 1.470,\n",
    "    \"classical_channel_index\": 1.471,\n",
    "    \"classical_communication_window_size\": (100/1e8)*1e12,\n",
    "\n",
    "    # Light Source\n",
    "    # \"mean_photon_num\" : 0.003, # 0.01\n",
    "\n",
    "    # Classical channel parameters\n",
    "    \"avg_power\": 2e-3, # avg_power is written in W\n",
    "    \"OMA\": 1, # OMA is written in dBm\n",
    "    \"narrow_band_filter_bandwidth\" : 0.03,\n",
    "}\n",
    "OMA = 10**( params[\"OMA\"] /10)/1000 # We receive the OMA in dBm\n",
    "assert params[\"avg_power\"] - OMA/2 > 0\n",
    "params[\"classical_powers\"] = [params[\"avg_power\"]-OMA/2, params[\"avg_power\"]-OMA/6, params[\"avg_power\"]+OMA/6, params[\"avg_power\"]+OMA/2]\n",
    "\n",
    "timeline = Timeline(1e12)\n",
    "cc = ClassicalChannel(\"cc\", timeline, 20, params)\n",
    "sender0 = Node(\"sender0\", timeline)\n",
    "receiver1 = \"receiver1\"\n",
    "cc.set_ends(sender0, receiver1)\n",
    "cc.start_classical_communication()"
   ]
  },
  {
   "cell_type": "code",
   "execution_count": 10,
   "metadata": {},
   "outputs": [
    {
     "name": "stdout",
     "output_type": "stream",
     "text": [
      "(3, 1)\n",
      "(1, 3)\n"
     ]
    },
    {
     "data": {
      "text/plain": [
       "array([[1, 1, 1],\n",
       "       [0, 0, 0],\n",
       "       [0, 0, 0]])"
      ]
     },
     "execution_count": 10,
     "metadata": {},
     "output_type": "execute_result"
    }
   ],
   "source": [
    "import numpy as np\n",
    "a = np.array([[1,0,0],]).T\n",
    "print(a.shape)\n",
    "b = np.array([[1,1,1],])\n",
    "print(b.shape)\n",
    "a*b"
   ]
  },
  {
   "cell_type": "code",
   "execution_count": 3,
   "metadata": {},
   "outputs": [
    {
     "data": {
      "text/plain": [
       "array([[0.5, 0. ],\n",
       "       [0. , 0.5]])"
      ]
     },
     "execution_count": 3,
     "metadata": {},
     "output_type": "execute_result"
    }
   ],
   "source": [
    "from src.kernel.quantum_utils import density_partial_trace\n",
    "state = ((0,0,0,0),\n",
    "         (0,0.5,0.5,0),\n",
    "         (0,0.5,0.5,0),\n",
    "         (0,0,0,0))\n",
    "\n",
    "density_partial_trace(state, (0,), 2, 1)"
   ]
  },
  {
   "cell_type": "code",
   "execution_count": 1,
   "metadata": {},
   "outputs": [
    {
     "ename": "AttributeError",
     "evalue": "'AbsorptiveMemory' object has no attribute 'pickle_funct'",
     "output_type": "error",
     "traceback": [
      "\u001b[0;31m---------------------------------------------------------------------------\u001b[0m",
      "\u001b[0;31mAttributeError\u001b[0m                            Traceback (most recent call last)",
      "\u001b[0;32m/tmp/ipykernel_1087723/1210851748.py\u001b[0m in \u001b[0;36m<module>\u001b[0;34m\u001b[0m\n\u001b[1;32m     13\u001b[0m                     \u001b[0mabsorption_efficiency\u001b[0m\u001b[0;34m=\u001b[0m\u001b[0;36m0.5\u001b[0m\u001b[0;34m,\u001b[0m \u001b[0mafc_efficiency\u001b[0m\u001b[0;34m=\u001b[0m\u001b[0mefficiency\u001b[0m\u001b[0;34m,\u001b[0m\u001b[0;34m\u001b[0m\u001b[0;34m\u001b[0m\u001b[0m\n\u001b[1;32m     14\u001b[0m                     mode_number=100, wavelength=1550, destination=\"meas\")\n\u001b[0;32m---> 15\u001b[0;31m \u001b[0ma\u001b[0m\u001b[0;34m.\u001b[0m\u001b[0mpickle_funct\u001b[0m\u001b[0;34m(\u001b[0m\u001b[0;34m)\u001b[0m\u001b[0;34m\u001b[0m\u001b[0;34m\u001b[0m\u001b[0m\n\u001b[0m\u001b[1;32m     16\u001b[0m \u001b[0;36m1\u001b[0m\u001b[0;34m==\u001b[0m\u001b[0;36m2\u001b[0m\u001b[0;34m\u001b[0m\u001b[0;34m\u001b[0m\u001b[0m\n",
      "\u001b[0;31mAttributeError\u001b[0m: 'AbsorptiveMemory' object has no attribute 'pickle_funct'"
     ]
    }
   ],
   "source": [
    "from src.components.memory import AbsorptiveMemory\n",
    "from src.kernel.timeline import Timeline\n",
    "\n",
    "tl = Timeline(1e12)\n",
    "\n",
    "# def efficiency(time):\n",
    "#     return time*2\n",
    "\n",
    "efficiency = lambda time: time*2\n",
    "\n",
    "\n",
    "a = AbsorptiveMemory(\"mem\", tl, frequency=1e8,\n",
    "                    absorption_efficiency=0.5, afc_efficiency=efficiency,\n",
    "                    mode_number=100, wavelength=1550, destination=\"meas\")\n",
    "a.pickle_funct()\n",
    "1==2"
   ]
  },
  {
   "cell_type": "code",
   "execution_count": 13,
   "metadata": {},
   "outputs": [
    {
     "name": "stdout",
     "output_type": "stream",
     "text": [
      "remaining_state_eff:\n",
      " [[0.        +0.j 0.        +0.j 0.        +0.j 0.        +0.j]\n",
      " [0.        +0.j 0.48850575+0.j 0.45977011+0.j 0.        +0.j]\n",
      " [0.        +0.j 0.45977011+0.j 0.48850575+0.j 0.        +0.j]\n",
      " [0.        +0.j 0.        +0.j 0.        +0.j 0.02298851+0.j]]\n",
      "bell_minus state:\n",
      "[[ 0. +0.j  0. -0.j  0. +0.j  0. +0.j]\n",
      " [ 0. +0.j  0.5+0.j -0.5+0.j  0. +0.j]\n",
      " [ 0. +0.j -0.5-0.j  0.5+0.j  0. +0.j]\n",
      " [ 0. +0.j  0. -0.j  0. +0.j  0. +0.j]]\n",
      "0.028735632183908063\n"
     ]
    }
   ],
   "source": [
    "import numpy as np\n",
    "from copy import copy\n",
    "\n",
    "def build_bell_state(truncation, sign, phase=0, formalism=\"dm\"):\n",
    "    \"\"\"Generate standard Bell state which is heralded in ideal BSM.\n",
    "\n",
    "    For comparison with results from imperfect parameter choices.\n",
    "    \"\"\"\n",
    "\n",
    "    basis0 = np.zeros(truncation+1)\n",
    "    basis0[0] = 1\n",
    "    basis1 = np.zeros(truncation+1)\n",
    "    basis1[1] = 1\n",
    "    basis10 = np.kron(basis1, basis0)\n",
    "    basis01 = np.kron(basis0, basis1)\n",
    "    \n",
    "    if sign == \"plus\":\n",
    "        ket = (basis10 + np.exp(1j*phase)*basis01)/np.sqrt(2)\n",
    "    elif sign == \"minus\":\n",
    "        ket = (basis10 - np.exp(1j*phase)*basis01)/np.sqrt(2)\n",
    "    else:\n",
    "        raise ValueError(\"Invalid Bell state sign type \" + sign)\n",
    "\n",
    "    dm = np.outer(ket, ket.conj())\n",
    "\n",
    "    if formalism == \"dm\":\n",
    "        return dm\n",
    "    elif formalism == \"ket\":\n",
    "        return ket\n",
    "    else:\n",
    "        raise ValueError(\"Invalid quantum state formalism \" + formalism)\n",
    "\n",
    "\n",
    "def effective_state(state):\n",
    "    state_copy = copy(state)\n",
    "    state_copy[0][0] = 0\n",
    "    state_copy = state_copy/np.trace(state_copy)\n",
    "    \n",
    "    return state_copy\n",
    "\n",
    "\n",
    "def calculate_fidelity(bins, off_diag):\n",
    "    reconstructed_state = np.zeros((4,4), np.cdouble)\n",
    "    for i in range(4):\n",
    "        reconstructed_state[i,i] = bins[i]\n",
    "    reconstructed_state[1,2] = reconstructed_state[2,1] = off_diag\n",
    "\n",
    "    \n",
    "    remaining_state_eff = effective_state(reconstructed_state)\n",
    "\n",
    "    print(\"remaining_state_eff:\\n\", remaining_state_eff)\n",
    "\n",
    "    # calculate the fidelity with reference Bell state\n",
    "    bell_minus = build_bell_state(1, \"minus\")\n",
    "    # bell_minus = build_bell_state(1, \"minus\")\n",
    "    # print(\"bell_plus state:\")\n",
    "    # print(bell_plus)\n",
    "\n",
    "    print(\"bell_minus state:\")\n",
    "    print(bell_minus)\n",
    "\n",
    "    fidelity = np.trace(remaining_state_eff.dot(bell_minus)).real\n",
    "\n",
    "\n",
    "    print(fidelity)\n",
    "\n",
    "\n",
    "\n",
    "calculate_fidelity([0.6, 0.17, 0.17, 0.008], 0.16)\n"
   ]
  },
  {
   "cell_type": "code",
   "execution_count": 10,
   "metadata": {},
   "outputs": [
    {
     "data": {
      "text/plain": [
       "['0.05500000000000001', '5.']"
      ]
     },
     "execution_count": 10,
     "metadata": {},
     "output_type": "execute_result"
    }
   ],
   "source": [
    "import re\n",
    "pattern = \"\\d[.]?\\d*\"\n",
    "text = \"params0.05500000000000001_5.json\"\n",
    "re.findall(pattern, text)\n"
   ]
  }
 ],
 "metadata": {
  "kernelspec": {
   "display_name": "sequence",
   "language": "python",
   "name": "python3"
  },
  "language_info": {
   "codemirror_mode": {
    "name": "ipython",
    "version": 3
   },
   "file_extension": ".py",
   "mimetype": "text/x-python",
   "name": "python",
   "nbconvert_exporter": "python",
   "pygments_lexer": "ipython3",
   "version": "3.10.12"
  },
  "orig_nbformat": 4,
  "vscode": {
   "interpreter": {
    "hash": "88377a6e55324fa9aa820ea791dd8f39fd36953d0848c425874a504b22d55f60"
   }
  }
 },
 "nbformat": 4,
 "nbformat_minor": 2
}
